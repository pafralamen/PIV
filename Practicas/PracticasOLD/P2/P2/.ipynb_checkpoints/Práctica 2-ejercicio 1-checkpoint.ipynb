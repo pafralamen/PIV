{
 "cells": [
  {
   "cell_type": "markdown",
   "metadata": {},
   "source": [
    "1. **Escriba un programa en Python que use dos variables nombreA y nombreB. en nombreA guardaremos el nombre de la imagen que se va a cargar y en nombreB estará el nombre de la imagen resultante de la transformación que haremos. Calcular las dimensiones de la imagen (alto, ancho y bandas). Las transformaciones que haremos serán dos: una versión rotadas de las mismas y una versión reflejada de las mismas.**"
   ]
  },
  {
   "cell_type": "code",
   "execution_count": 1,
   "metadata": {},
   "outputs": [
    {
     "ename": "ModuleNotFoundError",
     "evalue": "No module named 'cv2'",
     "output_type": "error",
     "traceback": [
      "\u001b[1;31m---------------------------------------------------------------------------\u001b[0m",
      "\u001b[1;31mModuleNotFoundError\u001b[0m                       Traceback (most recent call last)",
      "Input \u001b[1;32mIn [1]\u001b[0m, in \u001b[0;36m<module>\u001b[1;34m\u001b[0m\n\u001b[0;32m      1\u001b[0m \u001b[38;5;28;01mimport\u001b[39;00m \u001b[38;5;21;01mnumpy\u001b[39;00m \u001b[38;5;28;01mas\u001b[39;00m \u001b[38;5;21;01mnp\u001b[39;00m\n\u001b[1;32m----> 2\u001b[0m \u001b[38;5;28;01mimport\u001b[39;00m \u001b[38;5;21;01mcv2\u001b[39;00m\u001b[38;5;241m,\u001b[39m \u001b[38;5;21;01msys\u001b[39;00m\n\u001b[0;32m      4\u001b[0m nombreA\u001b[38;5;241m=\u001b[39m\u001b[38;5;124m\"\u001b[39m\u001b[38;5;124mimagen.jpg\u001b[39m\u001b[38;5;124m\"\u001b[39m\n\u001b[0;32m      5\u001b[0m nombreB\u001b[38;5;241m=\u001b[39m\u001b[38;5;124m\"\u001b[39m\u001b[38;5;124mimagenRotada.png\u001b[39m\u001b[38;5;124m\"\u001b[39m\n",
      "\u001b[1;31mModuleNotFoundError\u001b[0m: No module named 'cv2'"
     ]
    }
   ],
   "source": [
    "import numpy as np\n",
    "import cv2, sys\n",
    "\n",
    "nombreA=\"imagen.jpg\"\n",
    "nombreB=\"imagenRotada.png\"\n",
    "\n",
    "#Leemos la imagen del primer argumento y la cargamos en img\n",
    "img = cv2.imread(nombreA)\n",
    "\n",
    "#Si la imagen no se ha podido cargar, terminamos la ejecucion\n",
    "if ( img is None ):\n",
    "    print(\" Error al cargar imagen \")\n",
    "    sys.exit()\n",
    "\n",
    "#Obtenemos valores de la imagen en el array dimensiones, se podra usar img.size\n",
    "dimensiones=img.shape\n",
    "\n",
    "#Filas o alto\n",
    "alto = dimensiones[0]\n",
    "\n",
    "#Columnas o ancho\n",
    "ancho = dimensiones[1]\n",
    "\n",
    "#Bandas\n",
    "bandas = dimensiones[2]\n"
   ]
  },
  {
   "cell_type": "markdown",
   "metadata": {},
   "source": [
    "* **Realice una versión de la misma rotada 90º, en sentido horario. Dicha rotación se llevará a cabo creando una imagen nueva y copiando los pixeles desde la imagen original en las posicones adecuadas**\n"
   ]
  },
  {
   "cell_type": "markdown",
   "metadata": {},
   "source": [
    "*Código:*"
   ]
  },
  {
   "cell_type": "code",
   "execution_count": 5,
   "metadata": {},
   "outputs": [],
   "source": [
    "#Creando imagen Rotada, para ello intercambiaremos el orden de alto y ancho en la llamada (1er parametro es alto y 2do ancho)\n",
    "imgTransformada = np.zeros((ancho, alto, bandas), np.uint8)\n",
    "\n",
    "#Iteramos por la imagen y almacenamos el valor BGR de cada pixel y lo ponemos en la posicion adecuada\n",
    "for i in range(0, alto):\n",
    "    for j in range(0, ancho):\n",
    "        for k in range(0 ,bandas):\n",
    "            imgTransformada[j,i,k] = img[i,j,k]"
   ]
  },
  {
   "cell_type": "markdown",
   "metadata": {},
   "source": [
    "*Explicación de las operaciones realizadas:*"
   ]
  },
  {
   "cell_type": "markdown",
   "metadata": {},
   "source": [
    "3 loops anidados:\n",
    "- 1º para la altura\n",
    "- 2º para la anchura\n",
    "- 3º para las bandas\n",
    "\n",
    "Como queremos rotar la imagen, a la hora de asignar píxeles se intercambian [ i , j ] por [ j , i ]"
   ]
  },
  {
   "cell_type": "markdown",
   "metadata": {},
   "source": [
    "**Por ultimo, mostraremos la imagen en pantalla y grabaremos el resultado en un fichero llamado nombreB**"
   ]
  },
  {
   "cell_type": "code",
   "execution_count": 6,
   "metadata": {},
   "outputs": [],
   "source": [
    "#Mostramos la imagen\n",
    "r = cv2.imshow(\"Imagen transformada\",imgTransformada)\n",
    "\n",
    "#La guardamos con el nombre que elegimos y termina la ejecucion del programa\n",
    "cv2.imwrite(nombreB,imgTransformada)\n",
    "cv2.waitKey(0)\n",
    "cv2.destroyAllWindows()"
   ]
  }
 ],
 "metadata": {
  "kernelspec": {
   "display_name": "Python 3 (ipykernel)",
   "language": "python",
   "name": "python3"
  },
  "language_info": {
   "codemirror_mode": {
    "name": "ipython",
    "version": 3
   },
   "file_extension": ".py",
   "mimetype": "text/x-python",
   "name": "python",
   "nbconvert_exporter": "python",
   "pygments_lexer": "ipython3",
   "version": "3.9.7"
  }
 },
 "nbformat": 4,
 "nbformat_minor": 4
}

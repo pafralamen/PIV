{
 "cells": [
  {
   "cell_type": "markdown",
   "metadata": {},
   "source": [
    "4.\t**Escriba un programa en Python que cargue un vídeo**"
   ]
  },
  {
   "cell_type": "code",
   "execution_count": 1,
   "metadata": {},
   "outputs": [],
   "source": [
    "import cv2, numpy as np\n",
    "\n",
    "#Carga el video que le pasemos como parametro en cap\n",
    "cap = cv2.VideoCapture(\"videoP.avi\")\n",
    "\n",
    "while (cap. isOpened()):\n",
    "    ret, frame = cap.read ()\n",
    "    \n",
    "    #Overlay del texto\n",
    "    font = cv2.FONT_HERSHEY_SIMPLEX\n",
    "    cv2.putText(frame, 'Pablo Cubero', (550, 20), font, 0.8, (250, 250, 250), 1 ,cv2.LINE_AA)\n",
    "    \n",
    "    cv2.imshow ('frame',frame )\n",
    "    \n",
    "    if cv2.waitKey(1) & 0xFF == ord('q'):\n",
    "        cap.release()\n",
    "        cv2.destroyAllWindows()\n",
    "        \n",
    "        "
   ]
  },
  {
   "cell_type": "markdown",
   "metadata": {},
   "source": [
    "**y lo muestre en pantalla con su nombre superpuesto en la esquina superior derecha**"
   ]
  },
  {
   "cell_type": "markdown",
   "metadata": {},
   "source": [
    "*Explicación:*"
   ]
  },
  {
   "cell_type": "markdown",
   "metadata": {},
   "source": [
    "1.- Llamamos a la clase VideoCapture pasándole el nombre del vídeo para abrirlo  \n",
    "2.- Dentro del while, mientras está abierto cap hacemos:  \n",
    "    2.1.- Leemos el frame y el resultado de leerlo en (ret, frame)  \n",
    "    2.2.- Llamamos a cv2.putText() pasándole el frame, texto a poner, posición, fuente, escala, color, grosor y tipo de línea  \n",
    "    2.3.- Mostramos el frame con cv2.imshow()  \n",
    "    2.4.- Comprobamos que no se haya pulsado la 'q', de ser así cerramos el vídeo y todas las ventanas abiertas  "
   ]
  },
  {
   "cell_type": "code",
   "execution_count": null,
   "metadata": {},
   "outputs": [],
   "source": []
  }
 ],
 "metadata": {
  "kernelspec": {
   "display_name": "Python 3 (ipykernel)",
   "language": "python",
   "name": "python3"
  },
  "language_info": {
   "codemirror_mode": {
    "name": "ipython",
    "version": 3
   },
   "file_extension": ".py",
   "mimetype": "text/x-python",
   "name": "python",
   "nbconvert_exporter": "python",
   "pygments_lexer": "ipython3",
   "version": "3.9.7"
  }
 },
 "nbformat": 4,
 "nbformat_minor": 4
}

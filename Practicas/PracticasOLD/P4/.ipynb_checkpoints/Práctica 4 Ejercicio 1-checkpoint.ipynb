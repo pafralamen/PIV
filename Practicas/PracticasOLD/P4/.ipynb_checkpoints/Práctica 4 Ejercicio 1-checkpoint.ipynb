{
 "cells": [
  {
   "cell_type": "markdown",
   "metadata": {},
   "source": [
    "1. **Crear un programa en OpenCV que a) tome una imagen como entrada, la cargue en tonos de gris, la visualice, muestre su histograma, y b) iguale su histograma y muestre en otra ventana diferente el resultado de esta igualación. El resultado de la operación de igualación se puede ver en las figuras 1 y 2**\n",
    "\n",
    "![igualación](figura1.jpg)\n",
    "Figura 1. Ejemplo de igualación\n",
    "\n",
    "![igualaciónHistograma](figura2.jpg)\n",
    "Figura 2. Histograma igualado"
   ]
  },
  {
   "cell_type": "markdown",
   "metadata": {},
   "source": [
    "* **a) Cargamos la imagen de entrada en escala de gris, la visualizamos y mostramos su histograma:**"
   ]
  },
  {
   "cell_type": "code",
   "execution_count": 2,
   "metadata": {},
   "outputs": [],
   "source": [
    "import numpy as np\n",
    "import cv2, sys\n",
    "\n",
    "\n",
    "def calculaHistograma(imagen):\n",
    "    #calculamos las dimensiones\n",
    "    dimensiones=imagen.shape\n",
    "    alto = dimensiones[0]\n",
    "    ancho = dimensiones[1]\n",
    "    #calculamos el array con el nÃºmero de pÃ­xeles que possen cada uno de los 256 tonos posibles\n",
    "    vectorHistograma = np.zeros(256, np.uint32)\n",
    "    for i in range(alto):\n",
    "        for j in range(ancho):\n",
    "            vectorHistograma[imagen[i][j]] += 1\n",
    "    return vectorHistograma\n",
    "\n",
    "def creaImagenHistograma(alto):\n",
    "    anchoHistograma = 256 * 4\n",
    "    imagenHistograma = np.zeros((alto, anchoHistograma), np.uint8)\n",
    "    imagenHistograma.fill(255)\n",
    "    return imagenHistograma\n",
    "\n",
    "def dibujaHistograma(imagenHistograma, vectorHistograma, altoImagen,nombre):\n",
    "    valorMaximo = np.max(vectorHistograma)\n",
    "    vectorHistogramaNormalizado = np.zeros(256, np.uint32)\n",
    "    posicionXInicialRectangulo = 0\n",
    "    for i in range(vectorHistograma.size):\n",
    "        vectorHistogramaNormalizado[i] = (vectorHistograma[i]/valorMaximo) * altoImagen\n",
    "        #Nota: hay que darse cuenta que la posiciÃ³n (0,0) es la esquina superior izquierda es la esquina superior.  \n",
    "        cv2.rectangle(imagenHistograma, (posicionXInicialRectangulo, altoImagen - vectorHistogramaNormalizado[i]), (posicionXInicialRectangulo + 4, altoImagen), (0, 0, 0), -1)\n",
    "        posicionXInicialRectangulo +=4\n",
    "    cv2.imshow(nombre, imagenHistograma)\n",
    "\n",
    "\n",
    "nombreImagen =\"p4.png\"\n",
    "\n",
    "#cargamos la imagen\n",
    "imagen = cv2.imread(nombreImagen, cv2.IMREAD_GRAYSCALE)\n",
    "\n",
    "if (imagen is None):\n",
    "    print(\"Error al cargar la imagen\")\n",
    "    sys.exit()\n",
    "    \n",
    "#calculamos las dimensiones\n",
    "dimensiones=imagen.shape\n",
    "alto = dimensiones[0]\n",
    "ancho = dimensiones[1]\n",
    "\n",
    "vectorHistograma = calculaHistograma(imagen)\n",
    "\n",
    "cv2.imshow(\"Imagen\", imagen)\n",
    "imagenHistograma = creaImagenHistograma(alto)\n",
    "dibujaHistograma(imagenHistograma, vectorHistograma, alto,\"Histograma\")\n",
    "\n",
    "cv2.waitKey(0)\n",
    "cv2.destroyAllWindows()\n"
   ]
  },
  {
   "cell_type": "markdown",
   "metadata": {},
   "source": [
    "* **iguale su histograma y muestre en otra ventana diferente el resultado de esta igualación (Nota: la explicación del algoritmo de igualación la podemos encontrar en la transparencia 28 del tema 2)**"
   ]
  },
  {
   "cell_type": "code",
   "execution_count": 3,
   "metadata": {},
   "outputs": [],
   "source": [
    "#poner el código aquí\n",
    "n = alto*ancho\n",
    "vProb = np.zeros(256, np.float32)\n",
    "vHist2 = np.zeros(256, np.float32)\n",
    "leng = len(vectorHistograma)\n",
    "l = leng - 1\n",
    "\n",
    "# Obtengo las probabilidades individuales de cada valor en la imagen\n",
    "for i in range(leng):\n",
    "    vProb[i] = vectorHistograma[i]/n\n",
    "    \n",
    "# Mediante la formula, calculo la probabilidad acumulada para cada tono de gris \n",
    "vHist2[0] = l * vProb[0]        \n",
    "for i in range(1, leng):\n",
    "    vHist2[i] = (l * vProb[i]) + vHist2[i-1]\n",
    "\n",
    "# Redondeo los valores obtenidos\n",
    "vHist = np.zeros(256, np.uint32)\n",
    "for i in range(leng):\n",
    "    vHist[i] = round(vHist2[i])\n",
    " \n",
    "# Modifico el valor de cada pixel en la imagen original con el obtenido en el histograma igualado\n",
    "for i in range(alto):\n",
    "    for j in range(ancho):\n",
    "        imagen[i][j] = vHist[imagen[i][j]]\n",
    "\n",
    "# Muestro la imagen modificada\n",
    "cv2.imshow(\"Imagen\", imagen)\n",
    "\n",
    "# Y muestro tambien el histograma modificado\n",
    "imagenHistograma = creaImagenHistograma(alto)\n",
    "vHistFinal = calculaHistograma(imagen)\n",
    "dibujaHistograma(imagenHistograma, vHistFinal, alto,\"Histograma\")    \n",
    "    \n",
    "cv2.waitKey(0)\n",
    "cv2.destroyAllWindows()"
   ]
  },
  {
   "cell_type": "markdown",
   "metadata": {},
   "source": [
    "_Explicación del código:_"
   ]
  },
  {
   "cell_type": "markdown",
   "metadata": {},
   "source": [
    "Poner la explicación del código aquí"
   ]
  }
 ],
 "metadata": {
  "kernelspec": {
   "display_name": "Python 3 (ipykernel)",
   "language": "python",
   "name": "python3"
  },
  "language_info": {
   "codemirror_mode": {
    "name": "ipython",
    "version": 3
   },
   "file_extension": ".py",
   "mimetype": "text/x-python",
   "name": "python",
   "nbconvert_exporter": "python",
   "pygments_lexer": "ipython3",
   "version": "3.9.7"
  }
 },
 "nbformat": 4,
 "nbformat_minor": 4
}

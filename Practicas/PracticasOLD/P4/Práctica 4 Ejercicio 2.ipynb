{
 "cells": [
  {
   "cell_type": "markdown",
   "metadata": {},
   "source": [
    "**2. Crear un programa en OpenCV que permita llevar a cabo operaciones de convolución de una imagen en tonos de gris, empleando una matriz cuadrada de números en coma flotante, de tamaño variable. Dicha matriz tendrá un tamaño arbitrario y se especificará como una lista de listas de la siguiente forma:**\n",
    "\n",
    "```python\n",
    "convolucion = [[-1.0,0.0,1.0],[-1.0,0.0,1.0],[-1.0,0.0,1.0]]\n",
    "```\n",
    "\n",
    "**El propio programa será encargado de normalizar el resultado para que se encuentre en el rango 0-255, y de visualizar tanto la imagen original como la imagen convolucionada. Indique en los comentarios del programa la estrategia empleada en el proceso de normalización.**\n",
    "\n",
    "![Convolucion](convolucion.png)\n",
    "_Figura 1. Operación de convolucion_\n",
    "\n",
    "**Nota: Si para calcular la convolución, se accede a un pixel que esta fuera de la imagen, se considerará que ese pixel tiene valor 0**\n",
    "\n",
    "![Solucion](p4solucion.png)\n",
    "_Figura 2. Resultado de aplicar la matriz de convolución_"
   ]
  },
  {
   "cell_type": "code",
   "execution_count": 3,
   "metadata": {},
   "outputs": [
    {
     "name": "stdout",
     "output_type": "stream",
     "text": [
      "[[  0.   0.   0. ...  46.  24. 234.]\n",
      " [  0.   0.   0. ...  46.  20. 255.]\n",
      " [  0.   0.   1. ...  20.   0. 255.]\n",
      " ...\n",
      " [  0.   0.   0. ...   2.   0. 255.]\n",
      " [  0.   0.   0. ...   1.   1. 255.]\n",
      " [  0.   0.   0. ...   0.   2. 255.]]\n"
     ]
    }
   ],
   "source": [
    "import numpy as np\n",
    "import cv2, sys\n",
    "\n",
    "nombreImagen =\"p4.png\"\n",
    "nombreImagenResultante = \"p4convolucion.png\"\n",
    "\n",
    "#cargamos la imagen\n",
    "imagen = cv2.imread(nombreImagen, cv2.IMREAD_GRAYSCALE)\n",
    "\n",
    "if (imagen is None):\n",
    "    print(\"Error al cargar la imagen\")\n",
    "    sys.exit()\n",
    "    \n",
    "#calculamos las dimensiones\n",
    "dimensiones=imagen.shape\n",
    "alto = dimensiones[0]\n",
    "ancho = dimensiones[1]\n",
    "\n",
    "tamConvolucion = 3\n",
    "convolucion = [[-1.0,0.0,1.0],[-1.0,0.0,1.0],[-1.0,0.0,1.0]]\n",
    "\n",
    "#rotamos 180º la matriz de convolución\n",
    "filtro = np.flip(np.flip(convolucion, 1), 0)\n",
    "\n",
    "\n",
    "#####################################\n",
    "#########   CONVOLUCION   ###########\n",
    "#####################################\n",
    "\n",
    "# Calculo el margen a añadir a la imagen original\n",
    "margen = int(tamConvolucion/2)\n",
    "\n",
    "# Creo una imagen con un margen de 0s a su alrededor\n",
    "imagenMod = np.zeros((alto + margen*2, ancho + margen*2))\n",
    "imagenMod[int(margen):int(-1 * margen), int(margen):int(-1 * margen)] = imagen\n",
    "\n",
    "# Genero la imagen resultante vacia\n",
    "imagenResultante = np.zeros((alto, ancho))\n",
    "\n",
    "# Calculo la suma de la matriz nucleo\n",
    "sumaFiltro = 0\n",
    "for i in range(tamConvolucion):\n",
    "    for j in range(tamConvolucion):\n",
    "        sumaFiltro += filtro[i][j]\n",
    "\n",
    "# Si es 0, la pongo a 1 para no dividir entre 0\n",
    "if (sumaFiltro == 0):\n",
    "    sumaFiltro = 1.0\n",
    "    \n",
    "# Iteramos sobre la imagen y aplicamos la formula de la convolucion sobre cada pixel\n",
    "for j in range(ancho):\n",
    "    for i in range(alto):\n",
    "        # En esta linea ocurre la magia\n",
    "        imagenResultante[i, j] = ((filtro * imagenMod[i: i + tamConvolucion, j: j + tamConvolucion]).sum() / sumaFiltro)\n",
    "        # Si el valor es menor a 0 o mayor a 255 se reajusta\n",
    "        if (imagenResultante[i][j] < 0):\n",
    "            imagenResultante[i][j] = 0.0\n",
    "        if (imagenResultante[i][j] > 255):\n",
    "            imagenResultante[i][j] = 255.0\n",
    "      \n",
    "print (imagenResultante)\n",
    "\n",
    "#####################################\n",
    "#########   NORMALIZAR   ############\n",
    "#####################################\n",
    "\n",
    "# Valor Max y Min Intensidad Imagen\n",
    "maxI = np.max(imagenResultante)\n",
    "minI = np.min(imagenResultante)\n",
    "# Variacion de Intensidad Imagen\n",
    "k = (maxI-minI)\n",
    "\n",
    "# Creamos una imagen vacia\n",
    "img = np.zeros((alto, ancho), np.uint8)\n",
    "\n",
    "# Multiplicamos cada pixel por la constante obtenida\n",
    "for i in range(alto):\n",
    "    for j in range(ancho):\n",
    "        img[i][j] = (imagenResultante[i][j]-minI)*(255/k)\n",
    "\n",
    "#Se muestran las imagenes\n",
    "cv2.imshow(\"Imagen Original\", imagen)\n",
    "cv2.imshow(\"Imagen Convolucionada\", img)\n",
    "\n",
    "#Se guarda la nueva imagen en un archivo\n",
    "cv2.imwrite(nombreImagenResultante , imagenResultante)\n",
    "\n",
    "#Se finaliza la ejecucion\n",
    "cv2.waitKey(0)\n",
    "cv2.destroyAllWindows()"
   ]
  },
  {
   "cell_type": "markdown",
   "metadata": {},
   "source": [
    "_Explicación del código:_"
   ]
  },
  {
   "cell_type": "markdown",
   "metadata": {},
   "source": [
    "Lo he ido explicando conforme lo implementaba, esta todo en los comentarios"
   ]
  }
 ],
 "metadata": {
  "kernelspec": {
   "display_name": "Python 3 (ipykernel)",
   "language": "python",
   "name": "python3"
  },
  "language_info": {
   "codemirror_mode": {
    "name": "ipython",
    "version": 3
   },
   "file_extension": ".py",
   "mimetype": "text/x-python",
   "name": "python",
   "nbconvert_exporter": "python",
   "pygments_lexer": "ipython3",
   "version": "3.9.7"
  }
 },
 "nbformat": 4,
 "nbformat_minor": 4
}

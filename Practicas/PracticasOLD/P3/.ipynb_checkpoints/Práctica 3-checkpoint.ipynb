{
 "cells": [
  {
   "cell_type": "markdown",
   "metadata": {},
   "source": [
    "**Cálculo, visualización del histograma de una imagen y aumento del contraste de la misma  en OpenCV:**\n",
    "\n",
    "- **Elaborar un programa que cargue una imagen en modo escala de gris, y que calcule en un array el número de píxeles que poseen cada uno de los 256 tonos posibles (el histograma)**\n"
   ]
  },
  {
   "cell_type": "code",
   "execution_count": 14,
   "metadata": {
    "scrolled": true
   },
   "outputs": [],
   "source": [
    "import numpy as np\n",
    "import cv2, sys\n",
    "import math as m\n",
    "\n",
    "nombreImagen =\"p3.png\"\n",
    "\n",
    "#cargamos la imagen\n",
    "imagen = cv2.imread(nombreImagen, cv2.IMREAD_GRAYSCALE)\n",
    "\n",
    "if (imagen is None):\n",
    "    print(\"Error al cargar la imagen\")\n",
    "    sys.exit()\n",
    "    \n",
    "#calculamos las dimensiones\n",
    "dimensiones=imagen.shape\n",
    "alto = dimensiones[0]\n",
    "ancho = dimensiones[1]    \n",
    "\n",
    "###########################################################\n",
    "############### RESOLUCION DEL EJERCICIO ##################\n",
    "###########################################################\n",
    "\n",
    "# Valor Max y Min Intensidad Imagen\n",
    "maxI = np.max(imagen)\n",
    "minI = np.min(imagen)\n",
    "# Variacion de Intensidad Imagen\n",
    "k = (maxI-minI)\n",
    "\n",
    "# Creamos una imagen vacia\n",
    "img = np.zeros((alto, ancho), np.uint8)\n",
    "\n",
    "# Multiplicamos cada pixel por la constante obtenida\n",
    "for i in range(alto):\n",
    "    for j in range(ancho):\n",
    "        img[i][j] = (imagen[i][j]-minI)*(255/k)\n",
    "        \n",
    "###########################################################\n",
    "################# FIN DE LA RESOLUCION ####################\n",
    "###########################################################\n",
    "\n",
    "def calculaHistograma(imagen):\n",
    "    #calculamos las dimensiones\n",
    "    dimensiones=imagen.shape\n",
    "    alto = dimensiones[0]\n",
    "    ancho = dimensiones[1]\n",
    "    #calculamos el array con el numero de pixeles que poseen cada uno de los 256 tonos posibles\n",
    "    vectorHistograma = np.zeros(256, np.uint32)\n",
    "    for i in range(alto):\n",
    "        for j in range(ancho):\n",
    "            vectorHistograma[imagen[i][j]] += 1\n",
    "    return vectorHistograma\n",
    "\n",
    "vectorHistograma = calculaHistograma(img)\n"
   ]
  },
  {
   "cell_type": "markdown",
   "metadata": {},
   "source": [
    "- **Crear una imagen y rellenarla completamente de blanco. Esta será la imagen que usaremos para dibujar el histograma**"
   ]
  },
  {
   "cell_type": "code",
   "execution_count": 15,
   "metadata": {},
   "outputs": [],
   "source": [
    "def creaImagenHistograma(alto):\n",
    "    anchoHistograma = 256 * 4\n",
    "    imagenHistograma = np.zeros((alto, anchoHistograma), np.uint8)\n",
    "    imagenHistograma.fill(255)\n",
    "    return imagenHistograma\n",
    "\n"
   ]
  },
  {
   "cell_type": "markdown",
   "metadata": {},
   "source": [
    "- **Dibujar una serie de rectángulos negros rellenos, de altura variable, correspondientes a cada uno de los valores del histograma.**"
   ]
  },
  {
   "cell_type": "code",
   "execution_count": 16,
   "metadata": {},
   "outputs": [],
   "source": [
    "# Funcion para dibujar el histograma\n",
    "# imagenHistograma -> Imagen donde se dibuja el histograma (en blanco)\n",
    "# vectorHistograma -> Vector con el calculo del histograma\n",
    "# altoImagen -> Altura de la imagen original\n",
    "\n",
    "def dibujaHistograma(imagenHistograma, vectorHistograma, altoImagen, nombre):\n",
    "    valorMaximo = np.max(vectorHistograma)\n",
    "    vectorHistogramaNormalizado = np.zeros(256, np.uint32)\n",
    "    posicionXInicialRectangulo = 0\n",
    "    for i in range(vectorHistograma.size):\n",
    "        vectorHistogramaNormalizado[i] = (vectorHistograma[i]/valorMaximo) * altoImagen\n",
    "        #Nota: hay que darse cuenta que la posicion (0,0) es la esquina superior izquierda es la esquina superior.  \n",
    "        cv2.rectangle(imagenHistograma, (posicionXInicialRectangulo, altoImagen - vectorHistogramaNormalizado[i]), (posicionXInicialRectangulo + 4, altoImagen), (0, 0, 0), -1)\n",
    "        posicionXInicialRectangulo +=4\n",
    "    cv2.imshow(nombre, imagenHistograma)\n"
   ]
  },
  {
   "cell_type": "markdown",
   "metadata": {},
   "source": [
    "- **Visualizar ambas imágenes.**\n",
    "\n",
    "![ejemploImagen](p3.png \"Imagen\")\n",
    "_Figura 1. Imagen que se debería visualizar_\n",
    "\n",
    "![ejemploImagen](p3_histograma.png \"Histograma imagen original\")\n",
    "_Fgiura 2. Histograma de dicha imagen_"
   ]
  },
  {
   "cell_type": "code",
   "execution_count": 17,
   "metadata": {},
   "outputs": [],
   "source": [
    "cv2.imshow(\"Imagen\", img)\n",
    "imagenHistograma = creaImagenHistograma(alto)\n",
    "dibujaHistograma(imagenHistograma, vectorHistograma, alto,\"Histograma\")\n",
    "\n",
    "cv2.waitKey(0)\n",
    "cv2.destroyAllWindows()"
   ]
  },
  {
   "cell_type": "markdown",
   "metadata": {},
   "source": [
    "- **Aumentar el contraste de la imagen (sumando una constante)**"
   ]
  },
  {
   "cell_type": "code",
   "execution_count": 5,
   "metadata": {},
   "outputs": [],
   "source": [
    "def sumaConstante(imagen,valor):\n",
    "    dimensiones=imagen.shape\n",
    "    alto = dimensiones[0]\n",
    "    ancho = dimensiones[1]\n",
    "    nuevaImagen = np.zeros((alto, ancho), np.uint8)\n",
    "    for i in range(alto):\n",
    "        for j in range(ancho):\n",
    "            nuevoValor = imagen[i][j] + valor\n",
    "            if (nuevoValor>255):\n",
    "                nuevoValor = 255\n",
    "            nuevaImagen[i][j]=nuevoValor\n",
    "    \n",
    "    return nuevaImagen\n",
    "\n",
    "imagenMasValor = sumaConstante(imagen,10)\n",
    "cv2.imshow(\"Imagen mas constante\", imagenMasValor)\n",
    "vectorHistogramaimagenMasValor = calculaHistograma(imagenMasValor)\n",
    "imagenHistogramaimagenMasValor = creaImagenHistograma(alto)\n",
    "dibujaHistograma(imagenHistogramaimagenMasValor, vectorHistogramaimagenMasValor, alto,\"Histograma imagen mas constante\")\n",
    "\n",
    "cv2.waitKey(0)\n",
    "cv2.destroyAllWindows()\n"
   ]
  },
  {
   "cell_type": "markdown",
   "metadata": {},
   "source": [
    "- **Aumentar el contraste de la imagen (multiplicando una constante)**"
   ]
  },
  {
   "cell_type": "code",
   "execution_count": 16,
   "metadata": {},
   "outputs": [],
   "source": [
    "def multiplicaConstante(imagen,valor):\n",
    "    dimensiones=imagen.shape\n",
    "    alto = dimensiones[0]\n",
    "    ancho = dimensiones[1]\n",
    "    nuevaImagen = np.zeros((alto, ancho), np.uint8)\n",
    "    for i in range(alto):\n",
    "        for j in range(ancho):\n",
    "            nuevoValor = imagen[i][j] * valor\n",
    "            if (nuevoValor>255):\n",
    "                nuevoValor = 255\n",
    "            nuevaImagen[i][j]=nuevoValor\n",
    "    \n",
    "    return nuevaImagen\n",
    "\n",
    "imagenPorValor = multiplicaConstante(imagen,2)\n",
    "cv2.imshow(\"Imagen por constante\", imagenPorValor)\n",
    "vectorHistogramaimagenPorValor = calculaHistograma(imagenPorValor)\n",
    "imagenHistogramaimagenPorValor = creaImagenHistograma(alto)\n",
    "dibujaHistograma(imagenHistogramaimagenPorValor, vectorHistogramaimagenPorValor, alto,\"Histograma imagen por constante\")\n",
    "\n",
    "cv2.waitKey(0)\n",
    "cv2.destroyAllWindows()"
   ]
  },
  {
   "cell_type": "markdown",
   "metadata": {},
   "source": [
    "**Cuestionario:**"
   ]
  },
  {
   "cell_type": "markdown",
   "metadata": {},
   "source": [
    "1. **_Ensanche_ el histograma de la imagen p3.png, para que el valor más oscuro sea el 0 y el más claro el 255, muestre la imagen resultante y su histograma por pantalla, y grabe la imangen resultante en otro fichero llamado \"p3_ensanchado.png\".**\n",
    "**Nota: aunque se hable de ensanchar el histograma, las operaciones se deben realizar sobre la imagen, de forma al mostrar el histograma de la imagen resultante de dicha transformación, veamos el histograma ensanchado.**\n",
    "\n",
    "![ejemploImagen](p3_sol.png \"ImagenEsanchada\")\n",
    "_Figura 3. Imagen ensanchada_\n",
    "\n",
    "![ejemploImagenHistrograma](p3_sol_histograma.png \"ImagenEsanchada\")\n",
    "_Figura 4. Histograma de la imagen ensanchada_"
   ]
  },
  {
   "cell_type": "code",
   "execution_count": null,
   "metadata": {},
   "outputs": [],
   "source": [
    "cv2.waitKey(0)\n",
    "cv2.destroyAllWindows()"
   ]
  },
  {
   "cell_type": "markdown",
   "metadata": {},
   "source": [
    "_Explicación del código:_"
   ]
  },
  {
   "cell_type": "raw",
   "metadata": {},
   "source": [
    "# Valor Max y Min Intensidad Imagen\n",
    "maxI = np.max(imagen)\n",
    "minI = np.min(imagen)\n",
    "\n",
    "# Variacion de Intensidad Imagen\n",
    "k = (maxI-minI)\n",
    "\n",
    "# Creamos una imagen vacia\n",
    "img = np.zeros((alto, ancho), np.uint8)\n",
    "\n",
    "# Multiplicamos cada pixel por la proporción obtenida en base a la constante\n",
    "for i in range(alto):\n",
    "    for j in range(ancho):\n",
    "        img[i][j] = (imagen[i][j]-minI)*(255/k)\n",
    "\n",
    "#  1.- Calculo los valores máximos y mínimos de intensidad en la imagen\n",
    "#  2.- Calculo la variacion de intensidad entre estos valores extremos\n",
    "#  3.- Creo una imagen vacia para volcar el resultado\n",
    "#  4.- Itero sobre la imagen original, aplicando una fórmula para espaciar los valores de intensidad de cada pixel\n",
    "## 4.1.- A cada pixel de la imagen original le resto el valor minimo de intensidad\n",
    "## 4.2.- Lo multiplico por el valor maximo de intensidad que puede alcanzar entre la variacion de esta\n",
    "## 4.3.- En resumidas cuentas, estamos normalizando los valores de la imagen"
   ]
  },
  {
   "cell_type": "code",
   "execution_count": null,
   "metadata": {},
   "outputs": [],
   "source": []
  }
 ],
 "metadata": {
  "kernelspec": {
   "display_name": "Python 3",
   "language": "python",
   "name": "python3"
  },
  "language_info": {
   "codemirror_mode": {
    "name": "ipython",
    "version": 3
   },
   "file_extension": ".py",
   "mimetype": "text/x-python",
   "name": "python",
   "nbconvert_exporter": "python",
   "pygments_lexer": "ipython3",
   "version": "3.8.5"
  }
 },
 "nbformat": 4,
 "nbformat_minor": 4
}

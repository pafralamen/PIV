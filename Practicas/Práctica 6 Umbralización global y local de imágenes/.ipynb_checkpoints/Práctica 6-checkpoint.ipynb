{
 "cells": [
  {
   "cell_type": "markdown",
   "metadata": {},
   "source": [
    "1. **Elabore un programa en Python que umbralice una imagen mediante el método general explicado en las clases teóricas. El programa deberá imprimir por consola el valor de umbral obtenido, y finalmente mostrar en pantalla la imagen ya umbralizada.**\n",
    "\n",
    "**Método general para calcular el umbral:**\n",
    "1. **Seleccionar un umbral inicial T**\n",
    "2. **Segmentar la imagen a partir de dicho umbral. G1 es el área con intensidad <T, y G2 el resto**\n",
    "3. **Calcular la intensidad media de G1 y G2, m1 y m2**\n",
    "4. **Actualizar el valor de T: T=(1/2)(m1 + m2)**\n",
    "5. **Repetir los pasos 2 a 4 hasta que el valor de T se estabilice**\n",
    "\n",
    "![Imagen original](imagenOriginal.jpg)\n",
    "_Figura 1: Imagen de partida_\n",
    "\n",
    "![Imagen umbralizada](imagenUmbralizadaGeneral.jpg)\n",
    "_Figura 2: Imagen umbralizada_\n",
    "\n",
    "**Código:**"
   ]
  },
  {
   "cell_type": "code",
   "execution_count": 1,
   "metadata": {},
   "outputs": [
    {
     "name": "stdout",
     "output_type": "stream",
     "text": [
      "El umbral final es 127\n"
     ]
    }
   ],
   "source": [
    "import numpy as np\n",
    "import cv2, sys\n",
    "\n",
    "nombreImagen = \"p3.png\"\n",
    "\n",
    "#Leemos la imagen y la cargamos en imagenOriginal y hacemos la copia\n",
    "imagenOriginal = cv2.imread(nombreImagen, cv2.IMREAD_GRAYSCALE)\n",
    "imagenUmbralizada = cv2.imread(nombreImagen, cv2.IMREAD_GRAYSCALE)\n",
    "\n",
    "#Si la imagen no se ha podido cargar, terminamos\n",
    "if (imagenOriginal is None):\n",
    "    print(\" Error al cargar imagen \")\n",
    "    sys.exit()\n",
    "\n",
    "#Obtenemos los valores de la imagen en el array dimensiones\n",
    "dimensiones=imagenOriginal.shape\n",
    "\n",
    "#Filas o alto\n",
    "alto = dimensiones[0]\n",
    "\n",
    "#Columnas o ancho\n",
    "ancho = dimensiones[1]\n",
    "\n",
    "#Calculamos las dimensiones de la imagen\n",
    "dimensiones = ancho * alto\n",
    "\n",
    "umbral = 127 #valor inicial del umbral\n",
    "\n",
    "#RESOLVER\n",
    "\n",
    "#Mostramos las imágenes, guardamos la nueva y mostramos el umbral final\n",
    "cv2.imshow(\"Imagen Original\", imagenOriginal)\n",
    "cv2.imshow(\"Imagen Umbralizada General\", imagenUmbralizada)\n",
    "cv2.imwrite(\"solucion.png\",imagenUmbralizada)\n",
    "print(\"El umbral final es\", umbral)\n",
    "\n",
    "#Esperamos a una tecla y cerramos todas las ventanas\n",
    "cv2.waitKey(0)\n",
    "cv2.destroyAllWindows()"
   ]
  },
  {
   "cell_type": "markdown",
   "metadata": {},
   "source": [
    "Poner explicación de lo que hace el código aquí:"
   ]
  },
  {
   "cell_type": "markdown",
   "metadata": {},
   "source": [
    "EXPLICACIÓN"
   ]
  },
  {
   "cell_type": "markdown",
   "metadata": {},
   "source": [
    "2. **Escriba un programa en Python que umbralice una imagen mediante el método de Otsu. El funcionamiento del programa ha de ser análogo al del ejercicio 1.**\n",
    "\n",
    "**Método de umbralización de Otsu**\n",
    "\n",
    "* **Buscamos el valor k que maximiza la expresión:**\n",
    "\n",
    "![Otsu 1](otsu-1.jpg)\n",
    "\n",
    "\n",
    "* **Para una imagen G, con L tonos de gris, y siendo pi los componentes del histograma normalizado, definimos para un umbral k:![Otsu 2](otsu-2.jpg) cumpliendose que: ![Otsu 3](otsu-3.jpg)**\n",
    "\n",
    "* **Y definimos también:![Otsu 4](otsu-4.jpg)**\n",
    "\n",
    "![Imagen umbralizada otsu](imagenUmbralizadaOtsu.jpg)\n",
    "_Figura 3: Imagen umbralizada método de otsu_\n",
    "\n",
    "**Código:**"
   ]
  },
  {
   "cell_type": "code",
   "execution_count": 2,
   "metadata": {},
   "outputs": [
    {
     "name": "stdout",
     "output_type": "stream",
     "text": [
      "El umbral final es 0\n"
     ]
    }
   ],
   "source": [
    "import numpy as np\n",
    "import cv2, sys\n",
    "\n",
    "nombreImagen = \"p3.png\"\n",
    "\n",
    "#Leemos la imagen y la cargamos en imagenOriginal y hacemos la copia\n",
    "imagenOriginal = cv2.imread(nombreImagen, cv2.IMREAD_GRAYSCALE)\n",
    "imagenUmbralizada = cv2.imread(nombreImagen, cv2.IMREAD_GRAYSCALE)\n",
    "\n",
    "#Si la imagen no se ha podido cargar, terminamos\n",
    "if (imagenOriginal is None):\n",
    "    print(\" Error al cargar imagen \")\n",
    "    sys.exit()\n",
    "\n",
    "#Obtenemos los valores de la imagen en el array dimensiones, se podrÃ­a usar img.size (las 2 imagenes son similares)\n",
    "dimensiones=imagenOriginal.shape\n",
    "\n",
    "#Filas o alto\n",
    "alto = dimensiones[0]\n",
    "\n",
    "#Columnas o ancho\n",
    "ancho = dimensiones[1]\n",
    "\n",
    "#De esta manera ya tenemos las dimensiones de la imagen\n",
    "dimensionesImagen = alto * ancho\n",
    "\n",
    "#Definimos el array de normalización de valores flotantes\n",
    "arrayNormalizacion = np.zeros(256, np.float32)\n",
    "\n",
    "#Array de probabilidad acumulada\n",
    "pk = np.zeros(256, np.float32)\n",
    "\n",
    "#Probabilidad acumulada por valor\n",
    "mk = np.zeros(256, np.float32)\n",
    "\n",
    "#Sumatoria vector mk\n",
    "mg = 0\n",
    "\n",
    "umbral = 0\n",
    "\n",
    "#RESOLVER\n",
    "\n",
    "#Mostramos las imÃ¡genes, guardamos la nueva y mostramos el umbral final\n",
    "cv2.imshow(\"Imagen Original\", imagenOriginal)\n",
    "cv2.imshow(\"Imagen Umbralizada Otsu\", imagenUmbralizada)\n",
    "cv2.imwrite(\"solucion.png\", imagenUmbralizada)\n",
    "print(\"El umbral final es\", umbral)\n",
    "\n",
    "#Esperamos a una tecla y cerramos todas las ventanas\n",
    "cv2.waitKey(0)\n",
    "cv2.destroyAllWindows()"
   ]
  },
  {
   "cell_type": "markdown",
   "metadata": {},
   "source": [
    "Poner explicación del código aquí:"
   ]
  },
  {
   "cell_type": "markdown",
   "metadata": {},
   "source": [
    "EXPLICACIÓN"
   ]
  },
  {
   "cell_type": "markdown",
   "metadata": {},
   "source": [
    "3.\t**Escriba un programa en Python que particione una imagen en MxN bloques, umbralice cada uno de ellos y grabe en un fichero la imagen resultante umbralizada. Para la resolución de este problema necesitaremos conocer los valores M y N, el método de umbralización (general o de Otsu).**\n",
    "\n",
    "![division por bloques](bloques.jpg)\n",
    "_Figura 4: División por bloques_\n",
    "\n",
    "![Imagen umbralizada por bloques general](imagenUmbralizadaGeneralBloques.jpg)\n",
    "_Figura 5: Imagen umbralizada por método general usando bloques_\n",
    "\n",
    "![Imagen umbralizada por bloques otsu](imagenUmbralizadaOtsuBloques.jpg)\n",
    "_Figura 6: Imagen umbralizada por método Otsu usando bloques_\n",
    "\n",
    "**Código:**"
   ]
  },
  {
   "cell_type": "code",
   "execution_count": 4,
   "metadata": {},
   "outputs": [],
   "source": [
    "import numpy as np\n",
    "import cv2, sys\n",
    "\n",
    "#Argumentos\n",
    "nombreImagen = \"p3.png\"\n",
    "valorM = 5\n",
    "valorN = 8\n",
    "metodo = 0 #0 método general, 1 otsu\n",
    "\n",
    "#Leemos la imagen y la cargamos en imagenOriginal y hacemos la copia\n",
    "imagenOriginal = cv2.imread(nombreImagen, cv2.IMREAD_GRAYSCALE)\n",
    "imagenUmbralizada = cv2.imread(nombreImagen, cv2.IMREAD_GRAYSCALE)\n",
    "\n",
    "#Si la imagen no se ha podido cargar, terminamos la ejecuciÃ³n\n",
    "if (imagenOriginal is None):\n",
    "    print(\" Error al cargar imagen \")\n",
    "    sys.exit()\n",
    "\n",
    "#Obtenemos los valores de la imagen en el array dimensiones, se podrÃ­a usar img.size (las 2 imagenes son similares)\n",
    "dimensiones=imagenOriginal.shape\n",
    "\n",
    "#Filas o alto\n",
    "alto = dimensiones[0]\n",
    "\n",
    "#Columnas o ancho\n",
    "ancho = dimensiones[1]\n",
    "\n",
    "#De esta manera ya tenemos las dimensiones de la imagen\n",
    "dimensionesImagen = alto * ancho\n",
    "\n",
    "#RESOLVER\n",
    "\n",
    "\n",
    "#Mostramos las imagenes, guardamos la nueva y mostramos el umbral final\n",
    "cv2.imshow(\"Imagen Original\", imagenOriginal)\n",
    "cv2.imshow(\"Imagen umbralizada por bloques\", imagenUmbralizada)\n",
    "cv2.imwrite(\"solucion.png\", imagenUmbralizada)\n",
    "\n",
    "#Esperamos a una tecla y cerramos todas las ventanas\n",
    "cv2.waitKey(0)\n",
    "cv2.destroyAllWindows()"
   ]
  },
  {
   "cell_type": "markdown",
   "metadata": {},
   "source": [
    "Poner explicación del código aquí:"
   ]
  },
  {
   "cell_type": "markdown",
   "metadata": {},
   "source": [
    "EXPLICACIÓN"
   ]
  },
  {
   "cell_type": "markdown",
   "metadata": {},
   "source": [
    "4.\t**Escriba un programa de umbralización en Python que calcule el umbral para cada píxel a partir de un entorno del mismo de tamaño MxN. Para la resolución de este problema necesitaremos conocer los valores M y N, el método de umbralización (general o de Otsu).**\n",
    "\n",
    "![entorno](entorno.jpg)\n",
    "_Figura 7: Entorno de un pixel_\n",
    "\n",
    "![Imagen umbralizada por entorno general](ImagenUmbralizadaGeneralEntorno.jpg)\n",
    "_Figura 8: Imagen umbralizada por entorno método general_\n",
    "\n",
    "![Imagen umbralizada por entorno Otsu](ImagenUmbralizadaOtsuEntorno.jpg)\n",
    "_Figura 9: Imagen umbralizada por entorno método Otsu_"
   ]
  },
  {
   "cell_type": "code",
   "execution_count": 5,
   "metadata": {},
   "outputs": [],
   "source": [
    "import numpy as np\n",
    "import cv2, sys\n",
    "\n",
    "#Argumentos\n",
    "nombreImagen = \"p3.png\"\n",
    "valorM = 9\n",
    "valorN = 9\n",
    "metodo = 0 #0 método general, 1 otsu\n",
    "\n",
    "#Leemos la imagen y la cargamos en imagenOriginal y hacemos la copia\n",
    "imagenOriginal = cv2.imread(nombreImagen, cv2.IMREAD_GRAYSCALE)\n",
    "imagenUmbralizada = cv2.imread(nombreImagen, cv2.IMREAD_GRAYSCALE)\n",
    "\n",
    "#Si la imagen no se ha podido cargar, terminamos\n",
    "if (imagenOriginal is None):\n",
    "    print(\" Error al cargar imagen \")\n",
    "    sys.exit()\n",
    "\n",
    "#Obtenemos los valores de la imagen en el array dimensiones, se podrÃ­a usar img.size (las 2 imagenes son similares)\n",
    "dimensiones=imagenOriginal.shape\n",
    "\n",
    "#Filas o alto\n",
    "alto = dimensiones[0]\n",
    "\n",
    "#Columnas o ancho\n",
    "ancho = dimensiones[1]\n",
    "\n",
    "#De esta manera ya tenemos las dimensiones de la imagen\n",
    "dimensionesImagen = alto * ancho\n",
    "\n",
    "#RESOLVER\n",
    "\n",
    "#Mostramos las imágenes, guardamos la nueva\n",
    "cv2.imshow(\"Imagen Original\", imagenOriginal)\n",
    "cv2.imshow(\"Imagen umbralizada por entorno\", imagenUmbralizada)\n",
    "cv2.imwrite(\"solucion.png\", imagenUmbralizada)\n",
    "\n",
    "#Esperamos a una tecla y cerramos todas las ventanas\n",
    "cv2.waitKey(0)\n",
    "cv2.destroyAllWindows()\n"
   ]
  },
  {
   "cell_type": "markdown",
   "metadata": {},
   "source": [
    "Poner explicación del código aquí:"
   ]
  },
  {
   "cell_type": "markdown",
   "metadata": {},
   "source": [
    "EXPLICACIÓN"
   ]
  }
 ],
 "metadata": {
  "kernelspec": {
   "display_name": "Python 3 (ipykernel)",
   "language": "python",
   "name": "python3"
  },
  "language_info": {
   "codemirror_mode": {
    "name": "ipython",
    "version": 3
   },
   "file_extension": ".py",
   "mimetype": "text/x-python",
   "name": "python",
   "nbconvert_exporter": "python",
   "pygments_lexer": "ipython3",
   "version": "3.9.7"
  }
 },
 "nbformat": 4,
 "nbformat_minor": 4
}

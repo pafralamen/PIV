{
 "cells": [
  {
   "cell_type": "markdown",
   "metadata": {},
   "source": [
    "**Cálculo, visualización del histograma de una imagen y aumento del contraste de la misma  en OpenCV:**\n",
    "\n",
    "- **Elaborar un programa que cargue una imagen en modo escala de gris, y que calcule en un array el número de píxeles que poseen cada uno de los 256 tonos posibles (el histograma)**\n"
   ]
  },
  {
   "cell_type": "code",
   "execution_count": 1,
   "metadata": {
    "scrolled": true
   },
   "outputs": [],
   "source": [
    "import numpy as np\n",
    "import cv2, sys\n",
    "\n",
    "nombreImagen =\"p3.png\"\n",
    "\n",
    "#cargamos la imagen\n",
    "imagen = cv2.imread(nombreImagen, cv2.IMREAD_GRAYSCALE)\n",
    "\n",
    "if (imagen is None):\n",
    "    print(\"Error al cargar la imagen\")\n",
    "    sys.exit()\n",
    "    \n",
    "\n",
    "#calculamos las dimensiones\n",
    "dimensiones=imagen.shape\n",
    "alto = dimensiones[0]\n",
    "ancho = dimensiones[1]\n",
    "\n",
    "\n",
    "def calculaHistograma(imagen):\n",
    "    #calculamos las dimensiones\n",
    "    dimensiones=imagen.shape\n",
    "    alto = dimensiones[0]\n",
    "    ancho = dimensiones[1]\n",
    "    #calculamos el array con el nÃºmero de pÃ­xeles que possen cada uno de los 256 tonos posibles\n",
    "    vectorHistograma = np.zeros(256, np.uint32)\n",
    "    for i in range(alto):\n",
    "        for j in range(ancho):\n",
    "            vectorHistograma[imagen[i][j]] += 1\n",
    "    return vectorHistograma\n",
    "\n",
    "vectorHistograma = calculaHistograma(imagen)\n"
   ]
  },
  {
   "cell_type": "markdown",
   "metadata": {},
   "source": [
    "- **Crear una imagen y rellenarla completamente de blanco. Esta será la imagen que usaremos para dibujar el histograma**"
   ]
  },
  {
   "cell_type": "code",
   "execution_count": 2,
   "metadata": {},
   "outputs": [],
   "source": [
    "def creaImagenHistograma(alto):\n",
    "    anchoHistograma = 256 * 4\n",
    "    imagenHistograma = np.zeros((alto, anchoHistograma), np.uint8)\n",
    "    imagenHistograma.fill(255)\n",
    "    return imagenHistograma\n",
    "\n"
   ]
  },
  {
   "cell_type": "markdown",
   "metadata": {},
   "source": [
    "- **Dibujar una serie de rectángulos negros rellenos, de altura variable, correspondientes a cada uno de los valores del histograma.**"
   ]
  },
  {
   "cell_type": "code",
   "execution_count": 3,
   "metadata": {},
   "outputs": [],
   "source": [
    "#funcion para dibujar el histograma\n",
    "def dibujaHistograma(imagenHistograma, vectorHistograma, altoImagen,nombre):\n",
    "    valorMaximo = np.max(vectorHistograma)\n",
    "    vectorHistogramaNormalizado = np.zeros(256, np.uint32)\n",
    "    posicionXInicialRectangulo = 0\n",
    "    for i in range(vectorHistograma.size):\n",
    "        vectorHistogramaNormalizado[i] = (vectorHistograma[i]/valorMaximo) * altoImagen\n",
    "        #Nota: hay que darse cuenta que la posiciÃ³n (0,0) es la esquina superior izquierda es la esquina superior.  \n",
    "        cv2.rectangle(imagenHistograma, (posicionXInicialRectangulo, altoImagen - vectorHistogramaNormalizado[i]), (posicionXInicialRectangulo + 4, altoImagen), (0, 0, 0), -1)\n",
    "        posicionXInicialRectangulo +=4\n",
    "    cv2.imshow(nombre, imagenHistograma)\n"
   ]
  },
  {
   "cell_type": "markdown",
   "metadata": {},
   "source": [
    "- **Visualizar ambas imágenes.**\n",
    "\n",
    "![ejemploImagen](p3.png \"Imagen\")\n",
    "_Figura 1. Imagen que se debería visualizar_\n",
    "\n",
    "![ejemploImagen](p3_histograma.png \"Histograma imagen original\")\n",
    "_Fgiura 2. Histograma de dicha imagen_"
   ]
  },
  {
   "cell_type": "code",
   "execution_count": 4,
   "metadata": {},
   "outputs": [],
   "source": [
    "cv2.imshow(\"Imagen\", imagen)\n",
    "imagenHistograma = creaImagenHistograma(alto)\n",
    "dibujaHistograma(imagenHistograma, vectorHistograma, alto,\"Histograma\")\n",
    "\n",
    "cv2.waitKey(0)\n",
    "cv2.destroyAllWindows()"
   ]
  },
  {
   "cell_type": "markdown",
   "metadata": {},
   "source": [
    "- **Aumentar el contraste de la imagen (sumando una constante)**"
   ]
  },
  {
   "cell_type": "code",
   "execution_count": 6,
   "metadata": {},
   "outputs": [],
   "source": [
    "def sumaConstante(imagen,valor):\n",
    "    dimensiones=imagen.shape\n",
    "    alto = dimensiones[0]\n",
    "    ancho = dimensiones[1]\n",
    "    nuevaImagen = np.zeros((alto, ancho), np.uint8)\n",
    "    for i in range(alto):\n",
    "        for j in range(ancho):\n",
    "            nuevoValor = imagen[i][j] + valor\n",
    "            if (nuevoValor>255):\n",
    "                nuevoValor = 255\n",
    "            nuevaImagen[i][j]=nuevoValor\n",
    "    \n",
    "    return nuevaImagen\n",
    "\n",
    "imagenMasValor = sumaConstante(imagen,10)\n",
    "cv2.imshow(\"Imagen mas constante\", imagenMasValor)\n",
    "vectorHistogramaimagenMasValor = calculaHistograma(imagenMasValor)\n",
    "imagenHistogramaimagenMasValor = creaImagenHistograma(alto)\n",
    "dibujaHistograma(imagenHistogramaimagenMasValor, vectorHistogramaimagenMasValor, alto,\"Histograma imagen mas constante\")\n",
    "\n",
    "cv2.waitKey(0)\n",
    "cv2.destroyAllWindows()\n"
   ]
  },
  {
   "cell_type": "markdown",
   "metadata": {},
   "source": [
    "- **Aumentar el contraste de la imagen (multiplicando una constante)**"
   ]
  },
  {
   "cell_type": "code",
   "execution_count": 7,
   "metadata": {},
   "outputs": [],
   "source": [
    "def multiplicaConstante(imagen,valor):\n",
    "    dimensiones=imagen.shape\n",
    "    alto = dimensiones[0]\n",
    "    ancho = dimensiones[1]\n",
    "    nuevaImagen = np.zeros((alto, ancho), np.uint8)\n",
    "    for i in range(alto):\n",
    "        for j in range(ancho):\n",
    "            nuevoValor = imagen[i][j] * valor\n",
    "            if (nuevoValor>255):\n",
    "                nuevoValor = 255\n",
    "            nuevaImagen[i][j]=nuevoValor\n",
    "    \n",
    "    return nuevaImagen\n",
    "\n",
    "imagenPorValor = multiplicaConstante(imagen,2)\n",
    "cv2.imshow(\"Imagen por constante\", imagenPorValor)\n",
    "vectorHistogramaimagenPorValor = calculaHistograma(imagenPorValor)\n",
    "imagenHistogramaimagenPorValor = creaImagenHistograma(alto)\n",
    "dibujaHistograma(imagenHistogramaimagenPorValor, vectorHistogramaimagenPorValor, alto,\"Histograma imagen por constante\")\n",
    "\n",
    "cv2.waitKey(0)\n",
    "cv2.destroyAllWindows()"
   ]
  },
  {
   "cell_type": "markdown",
   "metadata": {},
   "source": [
    "**Cuestionario:**"
   ]
  },
  {
   "cell_type": "markdown",
   "metadata": {},
   "source": [
    "1. **_Ensanche_ el histograma de la imagen p3.png, para que el valor más oscuro sea el 0 y el más claro el 255, muestre la imagen resultante y su histograma por pantalla, y grabe la imangen resultante en otro fichero llamado \"p3_ensanchado.png\". Intente resolver el problema usando las funciones anteriormente definidas (sumaConstante y multiplicacionConstante).**\n",
    "**Nota: aunque se hable de ensanchar el histograma, las operaciones se deben realizar sobre la imagen, de forma al mostrar el histograma de la imagen resultante de dicha transformación, veamos el histograma ensanchado. **\n",
    "\n",
    "![ejemploImagen](p3_sol.png \"ImagenEsanchada\")\n",
    "_Figura 3. Imagen ensanchada_\n",
    "\n",
    "![ejemploImagenHistrograma](p3_sol_histograma.png \"ImagenEsanchada\")\n",
    "_Figura 4. Histograma de la imagen ensanchada_"
   ]
  },
  {
   "cell_type": "code",
   "execution_count": null,
   "metadata": {},
   "outputs": [],
   "source": [
    "\n",
    "\n",
    "\n",
    "\n",
    "cv2.waitKey(0)\n",
    "cv2.destroyAllWindows()"
   ]
  },
  {
   "cell_type": "markdown",
   "metadata": {},
   "source": [
    "_Explicación del código:_"
   ]
  },
  {
   "cell_type": "markdown",
   "metadata": {},
   "source": [
    "30 60 \n",
    "0 255\n",
    "\n",
    "\n",
    "x = 255/ max(60) - min (30)\n",
    "8,5(x) * posicion intervalo (valor - 30)\n",
    "\n",
    "\n"
   ]
  }
 ],
 "metadata": {
  "kernelspec": {
   "display_name": "Python 3 (ipykernel)",
   "language": "python",
   "name": "python3"
  },
  "language_info": {
   "codemirror_mode": {
    "name": "ipython",
    "version": 3
   },
   "file_extension": ".py",
   "mimetype": "text/x-python",
   "name": "python",
   "nbconvert_exporter": "python",
   "pygments_lexer": "ipython3",
   "version": "3.9.7"
  }
 },
 "nbformat": 4,
 "nbformat_minor": 4
}

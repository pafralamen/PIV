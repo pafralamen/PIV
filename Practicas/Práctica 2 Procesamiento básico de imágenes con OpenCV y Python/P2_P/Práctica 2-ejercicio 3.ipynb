{
 "cells": [
  {
   "cell_type": "markdown",
   "metadata": {},
   "source": [
    "3.\t**Escriba un programa en Python que, usando la biblioteca OpenCV, que use tres variables ancho, alto y nombre; y cree una imagen RGB de X píxeles de ancho por Y píxeles de alto**"
   ]
  },
  {
   "cell_type": "code",
   "execution_count": null,
   "metadata": {},
   "outputs": [],
   "source": [
    "import numpy as np\n",
    "import cv2, sys\n",
    "\n",
    "\n",
    "#Guardamos los parametros\n",
    "ancho = 800\n",
    "alto = 800\n",
    "nombre = \"imagenResultanteDibujos.png\"\n",
    "\n",
    "#Creando imagen de las mismas dimensiones que la original\n",
    "imagen = np.zeros((alto, ancho, 3), np.uint8)\n",
    "\n",
    "#Con esto la ponemos en blanco, tambien imagen[:] = (255, 255, 255)\n",
    "imagen.fill(255)\n",
    "\n"
   ]
  },
  {
   "cell_type": "markdown",
   "metadata": {},
   "source": [
    "**dibuje en ella al menos una línea, una polilínea, una circunferencia y un círculo.**"
   ]
  },
  {
   "cell_type": "markdown",
   "metadata": {},
   "source": [
    "*Código:*"
   ]
  },
  {
   "cell_type": "code",
   "execution_count": null,
   "metadata": {},
   "outputs": [],
   "source": [
    "#Linea\n",
    "cv2.line(imagen, (ancho-10, 10), (10, alto-10), (50, 50, 50), 3)\n",
    "\n",
    "#Polilinea\n",
    "pts = np.array([[400,100], [600,200], [600,600], [300,600]], np.int32)\n",
    "pts = pts.reshape((-1,1,2))\n",
    "cv2.polylines(imagen, [pts], True, (50, 50, 50))\n",
    "\n",
    "#Circunferencia\n",
    "cv2.circle(imagen, (int(3*ancho/4), int(3*alto/4)), 100, (50, 50, 50), 3)\n",
    "\n",
    "#Circulo\n",
    "cv2.circle(imagen, (int(ancho/4), int(alto/4)), 100, (50, 50, 50), -1)"
   ]
  },
  {
   "cell_type": "markdown",
   "metadata": {},
   "source": [
    "*Explicación:*"
   ]
  },
  {
   "cell_type": "markdown",
   "metadata": {},
   "source": [
    "Para la línea simplemete se indica el píxel de partida y el final. En la polilínea pintamos un polígono indicando en el array que se le pasa, los vérrices de este\n",
    "\n",
    "Para circunferencia y círculo se usa la misma función, solo que en el círculo le damos de grosor -1 para que lo rellene"
   ]
  },
  {
   "cell_type": "markdown",
   "metadata": {},
   "source": [
    "**y muestre el resultado y lo grabe todo en una imagen png de nombre que esté en la variable nombre.**"
   ]
  },
  {
   "cell_type": "code",
   "execution_count": null,
   "metadata": {},
   "outputs": [],
   "source": [
    "#Mostramos la imagen\n",
    "r = cv2.imshow(nombre, imagen)\n",
    "\n",
    "#La guardamos con el nombre que almacenamos en el argumento y termina la ejecuciÃ³n del programa\n",
    "cv2.imwrite(nombre, imagen)\n",
    "cv2.waitKey(0)\n",
    "cv2.destroyAllWindows()"
   ]
  }
 ],
 "metadata": {
  "kernelspec": {
   "display_name": "Python 3",
   "language": "python",
   "name": "python3"
  },
  "language_info": {
   "codemirror_mode": {
    "name": "ipython",
    "version": 3
   },
   "file_extension": ".py",
   "mimetype": "text/x-python",
   "name": "python",
   "nbconvert_exporter": "python",
   "pygments_lexer": "ipython3",
   "version": "3.8.5"
  }
 },
 "nbformat": 4,
 "nbformat_minor": 4
}

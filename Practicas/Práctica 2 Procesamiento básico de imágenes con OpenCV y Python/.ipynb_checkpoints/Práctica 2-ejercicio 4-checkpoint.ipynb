{
 "cells": [
  {
   "cell_type": "markdown",
   "metadata": {},
   "source": [
    "4.\t**Escriba un programa en Python que cargue un vídeo**"
   ]
  },
  {
   "cell_type": "code",
   "execution_count": 2,
   "metadata": {},
   "outputs": [],
   "source": [
    "import cv2, numpy as np\n",
    "\n",
    "#Carga el video que le pasemos como parÃ¡metro en cap\n",
    "cap = cv2.VideoCapture(\"video.avi\")"
   ]
  },
  {
   "cell_type": "markdown",
   "metadata": {},
   "source": [
    "**y lo muestre en pantalla con vuestro nombre superpuesto en la esquina superior derecha**"
   ]
  },
  {
   "cell_type": "markdown",
   "metadata": {},
   "source": [
    "*Código:*"
   ]
  },
  {
   "cell_type": "code",
   "execution_count": 3,
   "metadata": {},
   "outputs": [],
   "source": [
    "while (cap.isOpened()):\n",
    "    ret, frame = cap.read()\n",
    "    \n",
    "    #Texto\n",
    "    cv2.putText(frame, 'Francisco Latorre', (450, 30), cv2.FONT_HERSHEY_TRIPLEX, 0.8, (255, 255, 255), 2 )\n",
    "    \n",
    "    cv2.imshow('frame',frame)\n",
    "    if (cv2.waitKey(1) == ord('q')):\n",
    "        break\n",
    "\n",
    "cap.release()\n",
    "cv2.destroyAllWindows()"
   ]
  },
  {
   "cell_type": "markdown",
   "metadata": {},
   "source": [
    "*Explicación:*"
   ]
  },
  {
   "cell_type": "markdown",
   "metadata": {},
   "source": [
    "En el while comprobamos que cap este abierto.\n",
    "Dentro leemos un frame, se escribe el texto con putText() y lo mostramos con imshow() \n",
    "\n",
    "Con el if rompemos el bucle cuando se pulse la tecla q"
   ]
  },
  {
   "cell_type": "code",
   "execution_count": null,
   "metadata": {},
   "outputs": [],
   "source": []
  }
 ],
 "metadata": {
  "kernelspec": {
   "display_name": "Python 3 (ipykernel)",
   "language": "python",
   "name": "python3"
  },
  "language_info": {
   "codemirror_mode": {
    "name": "ipython",
    "version": 3
   },
   "file_extension": ".py",
   "mimetype": "text/x-python",
   "name": "python",
   "nbconvert_exporter": "python",
   "pygments_lexer": "ipython3",
   "version": "3.9.7"
  }
 },
 "nbformat": 4,
 "nbformat_minor": 4
}

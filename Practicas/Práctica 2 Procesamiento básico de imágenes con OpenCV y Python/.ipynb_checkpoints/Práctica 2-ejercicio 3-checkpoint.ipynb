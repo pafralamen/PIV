{
 "cells": [
  {
   "cell_type": "markdown",
   "metadata": {},
   "source": [
    "3.\t**Escriba un programa en Python que, usando la biblioteca OpenCV, que use tres variables ancho alto y nombre y cree una imagen RGB de X píxeles de ancho por Y píxeles de alto**"
   ]
  },
  {
   "cell_type": "code",
   "execution_count": 28,
   "metadata": {},
   "outputs": [],
   "source": [
    "import numpy as np\n",
    "import cv2, sys\n",
    "\n",
    "\n",
    "#Guardamos los parametros\n",
    "ancho = 800\n",
    "alto = 800\n",
    "nombre = \"imagenResultadoDibujos.png\"\n",
    "\n",
    "#Creando imagen de las mismas dimensiones que la original\n",
    "imagen = np.zeros((alto, ancho, 3), np.uint8)\n",
    "\n",
    "#Con esto la ponemos en blanco, tambien imagen[:] = (255, 255, 255)\n",
    "imagen.fill(255)\n",
    "\n"
   ]
  },
  {
   "cell_type": "markdown",
   "metadata": {},
   "source": [
    "**dibuje en ella al menos dos líneas, dos polilíneas, dos circunferencias y dos círculos.**"
   ]
  },
  {
   "cell_type": "markdown",
   "metadata": {},
   "source": [
    "*Código:*"
   ]
  },
  {
   "cell_type": "code",
   "execution_count": 29,
   "metadata": {},
   "outputs": [
    {
     "data": {
      "text/plain": [
       "array([[[255, 255, 255],\n",
       "        [255, 255, 255],\n",
       "        [255, 255, 255],\n",
       "        ...,\n",
       "        [255, 255, 255],\n",
       "        [255, 255, 255],\n",
       "        [255, 255, 255]],\n",
       "\n",
       "       [[255, 255, 255],\n",
       "        [255, 255, 255],\n",
       "        [255, 255, 255],\n",
       "        ...,\n",
       "        [255, 255, 255],\n",
       "        [255, 255, 255],\n",
       "        [255, 255, 255]],\n",
       "\n",
       "       [[255, 255, 255],\n",
       "        [255, 255, 255],\n",
       "        [255, 255, 255],\n",
       "        ...,\n",
       "        [255, 255, 255],\n",
       "        [255, 255, 255],\n",
       "        [255, 255, 255]],\n",
       "\n",
       "       ...,\n",
       "\n",
       "       [[255, 255, 255],\n",
       "        [255, 255, 255],\n",
       "        [255, 255, 255],\n",
       "        ...,\n",
       "        [255, 255, 255],\n",
       "        [255, 255, 255],\n",
       "        [255, 255, 255]],\n",
       "\n",
       "       [[255, 255, 255],\n",
       "        [255, 255, 255],\n",
       "        [255, 255, 255],\n",
       "        ...,\n",
       "        [255, 255, 255],\n",
       "        [255, 255, 255],\n",
       "        [255, 255, 255]],\n",
       "\n",
       "       [[255, 255, 255],\n",
       "        [255, 255, 255],\n",
       "        [255, 255, 255],\n",
       "        ...,\n",
       "        [255, 255, 255],\n",
       "        [255, 255, 255],\n",
       "        [255, 255, 255]]], dtype=uint8)"
      ]
     },
     "execution_count": 29,
     "metadata": {},
     "output_type": "execute_result"
    }
   ],
   "source": [
    "#Lineas\n",
    "\n",
    "cv2.line(imagen, (50, 50), (300, 300), (0,0,255), 5)\n",
    "cv2.line(imagen, (400, 400), (600, 600), (0,0,255), 5)\n",
    "\n",
    "#Polilineas\n",
    "pts = np.array([[50,50], [300,50], [50,300], [300,300]],np.int32)\n",
    "pts = pts.reshape((-1,1,2))\n",
    "cv2.polylines(imagen, [pts], True, (255,0,0))\n",
    "\n",
    "pts = np.array([[400,400], [400,600], [600,400], [600,600]],np.int32)\n",
    "pts = pts.reshape((-1,1,2))\n",
    "cv2.polylines(imagen, [pts], True, (255,0,0))\n",
    "\n",
    "#Circunferencias\n",
    "cv2.circle(imagen, (175, 175), 175, (0, 0, 0), 3)\n",
    "cv2.circle(imagen, (175, 175), 100, (0, 0, 0), 3)\n",
    "\n",
    "#Circulos\n",
    "cv2.circle(imagen, (500, 550), 50, (0, 0, 0), -1)\n",
    "cv2.circle(imagen, (500, 450), 50, (0, 0, 0), -1)\n"
   ]
  },
  {
   "cell_type": "markdown",
   "metadata": {},
   "source": [
    "*Explicación:*"
   ]
  },
  {
   "cell_type": "markdown",
   "metadata": {},
   "source": [
    "Para las lineas indicar el punto de inicio y final, color y grosor\n",
    "\n",
    "Las polilineas hay que indicar 4 puntos y si son cerradas\n",
    "\n",
    "Y para los circulos"
   ]
  },
  {
   "cell_type": "markdown",
   "metadata": {},
   "source": [
    "**y muestre el resultado y lo grabe todo en una imagen png de nombre que esté en la variable nombre.**"
   ]
  },
  {
   "cell_type": "code",
   "execution_count": 30,
   "metadata": {},
   "outputs": [],
   "source": [
    "#Mostramos la imagen\n",
    "r = cv2.imshow(nombre, imagen)\n",
    "\n",
    "#La guardamos con el nombre que almacenamos en el argumento y termina la ejecuciÃ³n del programa\n",
    "cv2.imwrite(nombre, imagen)\n",
    "cv2.waitKey(0)\n",
    "cv2.destroyAllWindows()"
   ]
  },
  {
   "cell_type": "code",
   "execution_count": null,
   "metadata": {},
   "outputs": [],
   "source": []
  }
 ],
 "metadata": {
  "kernelspec": {
   "display_name": "Python 3 (ipykernel)",
   "language": "python",
   "name": "python3"
  },
  "language_info": {
   "codemirror_mode": {
    "name": "ipython",
    "version": 3
   },
   "file_extension": ".py",
   "mimetype": "text/x-python",
   "name": "python",
   "nbconvert_exporter": "python",
   "pygments_lexer": "ipython3",
   "version": "3.9.7"
  }
 },
 "nbformat": 4,
 "nbformat_minor": 4
}

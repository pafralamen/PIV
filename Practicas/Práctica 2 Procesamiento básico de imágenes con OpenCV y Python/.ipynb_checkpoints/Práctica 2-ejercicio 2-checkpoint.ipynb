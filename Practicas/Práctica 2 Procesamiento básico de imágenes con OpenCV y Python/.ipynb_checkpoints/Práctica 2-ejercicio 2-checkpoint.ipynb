{
 "cells": [
  {
   "cell_type": "markdown",
   "metadata": {},
   "source": [
    "2. **Escriba un programa en Python que use dos variables nombreA y nombreB. en nombreA guardaremos el nombre de la imagen que se va a cargar y en nombreB estará el nombre de la imagen resultante de la transformación que haremos. Calcular las dimensiones de la imagen (alto, ancho y bandas). Las transformaciones que haremos serán dos: una versión rotadas de las mismas y una versión reflejada de las mismas.**"
   ]
  },
  {
   "cell_type": "code",
   "execution_count": 3,
   "metadata": {},
   "outputs": [],
   "source": [
    "import numpy as np\n",
    "import cv2, sys\n",
    "\n",
    "nombreA=\"imagen.jpg\"\n",
    "nombreB=\"imagenResultadoEjercicio2.png\"\n",
    "\n",
    "#Leemos la imagen del primer argumento y la cargamos en img\n",
    "img = cv2.imread(nombreA)\n",
    "\n",
    "#Si la imagen no se ha podido cargar, terminamos la ejecucion\n",
    "if ( img is None ):\n",
    "    print(\" Error al cargar imagen \")\n",
    "    sys.exit()\n",
    "\n",
    "#Obtenemos los valores de la imagen en el array dimensiones, se podrÃ­a usar img.size\n",
    "dimensiones=img.shape\n",
    "\n",
    "#Filas o alto\n",
    "alto = dimensiones[0]\n",
    "\n",
    "#Columnas o ancho\n",
    "ancho = dimensiones[1]\n",
    "\n",
    "#Bandas\n",
    "bandas = dimensiones[2]\n"
   ]
  },
  {
   "cell_type": "markdown",
   "metadata": {},
   "source": [
    "* **Realice una versión de la misma reflejada en el eje vertica. Dicha versión reflejada se llevará a cabo creando una imagen nueva y copiando los pixeles desde la imagen orignal en las posiciones adecuadas**"
   ]
  },
  {
   "cell_type": "markdown",
   "metadata": {},
   "source": [
    "*Código:*"
   ]
  },
  {
   "cell_type": "code",
   "execution_count": 4,
   "metadata": {},
   "outputs": [],
   "source": [
    "\n",
    "#Creando imagen reflejada de las mismas dimensiones que la original\n",
    "imgTransformada = np.zeros((alto, ancho, bandas), np.uint8)\n",
    "\n",
    "#Iteramos por la imagen y almacenamos el valor BGR de cada pixel y lo ponemos en la posicion adecuada\n",
    "\n",
    "for i in range(alto):\n",
    "    for j in range(ancho):\n",
    "        for k in range(bandas):\n",
    "            imgTransformada[i,ancho-1-j,k] = img[i,j,k]\n"
   ]
  },
  {
   "cell_type": "markdown",
   "metadata": {},
   "source": [
    "*Explicación de las operaciones realizadas:*"
   ]
  },
  {
   "cell_type": "markdown",
   "metadata": {},
   "source": [
    "Siguiendo la estructura del ejercicio 1, pero sin invertir el alto y el ancho.\n",
    "\n",
    "Se usa ancho-1-j para recorrer de derecha a izquierda y mostrar la imagen reflejada en el eje vertical"
   ]
  },
  {
   "cell_type": "markdown",
   "metadata": {},
   "source": [
    "**Por ultimo, mostraremos la imagen en pantalla y grabaremos el resultado en un fichero llamado nombreB**"
   ]
  },
  {
   "cell_type": "code",
   "execution_count": 5,
   "metadata": {},
   "outputs": [],
   "source": [
    "#Mostramos la imagen\n",
    "r = cv2.imshow(\"Imagen transformada\",imgTransformada)\n",
    "\n",
    "#La guardamos con el nombre que elegimos y termina la ejecucion del programa\n",
    "cv2.imwrite(nombreB,imgTransformada)\n",
    "cv2.waitKey(0)\n",
    "cv2.destroyAllWindows()"
   ]
  },
  {
   "cell_type": "code",
   "execution_count": null,
   "metadata": {},
   "outputs": [],
   "source": []
  }
 ],
 "metadata": {
  "kernelspec": {
   "display_name": "Python 3 (ipykernel)",
   "language": "python",
   "name": "python3"
  },
  "language_info": {
   "codemirror_mode": {
    "name": "ipython",
    "version": 3
   },
   "file_extension": ".py",
   "mimetype": "text/x-python",
   "name": "python",
   "nbconvert_exporter": "python",
   "pygments_lexer": "ipython3",
   "version": "3.9.7"
  }
 },
 "nbformat": 4,
 "nbformat_minor": 4
}

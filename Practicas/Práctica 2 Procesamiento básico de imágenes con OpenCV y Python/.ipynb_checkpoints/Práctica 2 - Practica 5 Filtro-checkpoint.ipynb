{
 "cells": [
  {
   "cell_type": "markdown",
   "metadata": {},
   "source": [
    "3.\t**Escriba un programa en Python que, usando la biblioteca OpenCV, que use tres variables ancho alto y nombre y cree una imagen RGB de X píxeles de ancho por Y píxeles de alto**"
   ]
  },
  {
   "cell_type": "code",
   "execution_count": 5,
   "metadata": {},
   "outputs": [],
   "source": [
    "import numpy as np\n",
    "import cv2, sys\n",
    "\n",
    "\n",
    "#Guardamos los parametros\n",
    "ancho = 400\n",
    "alto = 400\n",
    "nombre = \"FiltroPasoAlto.png\"\n",
    "\n",
    "#Creando imagen\n",
    "imagen = np.zeros((alto, ancho, 3), np.uint8)\n",
    "\n",
    "#Con esto la ponemos en negro, tambien imagen[:] = (255, 255, 255)\n",
    "imagen.fill(255)\n",
    "\n",
    "\n",
    "#Circulo\n",
    "cv2.circle(imagen, (200, 200), 50, (0, 0,0), -1)\n",
    "\n",
    "#Mostramos la imagen\n",
    "r = cv2.imshow(nombre, imagen)\n",
    "\n",
    "#La guardamos con el nombre que almacenamos en el argumento y termina la ejecuciÃ³n del programa\n",
    "cv2.imwrite(nombre, imagen)\n",
    "cv2.waitKey(0)\n",
    "cv2.destroyAllWindows()"
   ]
  },
  {
   "cell_type": "markdown",
   "metadata": {},
   "source": [
    "**dibuje en ella al menos dos líneas, dos polilíneas, dos circunferencias y dos círculos.**"
   ]
  },
  {
   "cell_type": "markdown",
   "metadata": {},
   "source": [
    "*Código:*"
   ]
  },
  {
   "cell_type": "code",
   "execution_count": 29,
   "metadata": {},
   "outputs": [
    {
     "data": {
      "text/plain": [
       "array([[[255, 255, 255],\n",
       "        [255, 255, 255],\n",
       "        [255, 255, 255],\n",
       "        ...,\n",
       "        [255, 255, 255],\n",
       "        [255, 255, 255],\n",
       "        [255, 255, 255]],\n",
       "\n",
       "       [[255, 255, 255],\n",
       "        [255, 255, 255],\n",
       "        [255, 255, 255],\n",
       "        ...,\n",
       "        [255, 255, 255],\n",
       "        [255, 255, 255],\n",
       "        [255, 255, 255]],\n",
       "\n",
       "       [[255, 255, 255],\n",
       "        [255, 255, 255],\n",
       "        [255, 255, 255],\n",
       "        ...,\n",
       "        [255, 255, 255],\n",
       "        [255, 255, 255],\n",
       "        [255, 255, 255]],\n",
       "\n",
       "       ...,\n",
       "\n",
       "       [[255, 255, 255],\n",
       "        [255, 255, 255],\n",
       "        [255, 255, 255],\n",
       "        ...,\n",
       "        [255, 255, 255],\n",
       "        [255, 255, 255],\n",
       "        [255, 255, 255]],\n",
       "\n",
       "       [[255, 255, 255],\n",
       "        [255, 255, 255],\n",
       "        [255, 255, 255],\n",
       "        ...,\n",
       "        [255, 255, 255],\n",
       "        [255, 255, 255],\n",
       "        [255, 255, 255]],\n",
       "\n",
       "       [[255, 255, 255],\n",
       "        [255, 255, 255],\n",
       "        [255, 255, 255],\n",
       "        ...,\n",
       "        [255, 255, 255],\n",
       "        [255, 255, 255],\n",
       "        [255, 255, 255]]], dtype=uint8)"
      ]
     },
     "execution_count": 29,
     "metadata": {},
     "output_type": "execute_result"
    }
   ],
   "source": [
    "\n",
    "\n"
   ]
  },
  {
   "cell_type": "markdown",
   "metadata": {},
   "source": [
    "*Explicación:*"
   ]
  },
  {
   "cell_type": "markdown",
   "metadata": {},
   "source": [
    "Para las lineas indicar el punto de inicio y final, color y grosor\n",
    "\n",
    "Las polilineas hay que indicar 4 puntos\n",
    "\n",
    "Y para las circunferencias centro, radio y grosor. En el caso del circulo grosor = -1"
   ]
  },
  {
   "cell_type": "markdown",
   "metadata": {},
   "source": [
    "**y muestre el resultado y lo grabe todo en una imagen png de nombre que esté en la variable nombre.**"
   ]
  },
  {
   "cell_type": "code",
   "execution_count": 30,
   "metadata": {},
   "outputs": [],
   "source": [
    "#Mostramos la imagen\n",
    "r = cv2.imshow(nombre, imagen)\n",
    "\n",
    "#La guardamos con el nombre que almacenamos en el argumento y termina la ejecuciÃ³n del programa\n",
    "cv2.imwrite(nombre, imagen)\n",
    "cv2.waitKey(0)\n",
    "cv2.destroyAllWindows()"
   ]
  },
  {
   "cell_type": "code",
   "execution_count": null,
   "metadata": {},
   "outputs": [],
   "source": []
  }
 ],
 "metadata": {
  "kernelspec": {
   "display_name": "Python 3 (ipykernel)",
   "language": "python",
   "name": "python3"
  },
  "language_info": {
   "codemirror_mode": {
    "name": "ipython",
    "version": 3
   },
   "file_extension": ".py",
   "mimetype": "text/x-python",
   "name": "python",
   "nbconvert_exporter": "python",
   "pygments_lexer": "ipython3",
   "version": "3.9.7"
  }
 },
 "nbformat": 4,
 "nbformat_minor": 4
}

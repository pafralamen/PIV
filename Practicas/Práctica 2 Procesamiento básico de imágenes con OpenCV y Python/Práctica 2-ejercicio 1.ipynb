{
 "cells": [
  {
   "cell_type": "markdown",
   "metadata": {},
   "source": [
    "1. **Escriba un programa en Python que use dos variables nombreA y nombreB. en nombreA guardaremos el nombre de la imagen que se va a cargar y en nombreB estará el nombre de la imagen resultante de la transformación que haremos. Calcular las dimensiones de la imagen (alto, ancho y bandas). Las transformaciones que haremos serán dos: una versión rotadas de las mismas y una versión reflejada de las mismas.**"
   ]
  },
  {
   "cell_type": "code",
   "execution_count": 1,
   "metadata": {},
   "outputs": [],
   "source": [
    "import numpy as np\n",
    "import cv2, sys\n",
    "\n",
    "nombreA=\"imagen.png\"\n",
    "nombreB=\"imagenResultado.png\"\n",
    "\n",
    "#Leemos la imagen del primer argumento y la cargamos en img\n",
    "img = cv2.imread(nombreA)\n",
    "\n",
    "#Si la imagen no se ha podido cargar, terminamos la ejecucion\n",
    "if ( img is None ):\n",
    "    print(\" Error al cargar imagen \")\n",
    "    sys.exit()\n",
    "\n",
    "#Obtenemos los valores de la imagen en el array dimensiones, se podrÃ­a usar img.size\n",
    "dimensiones=img.shape\n",
    "\n",
    "#Filas o alto\n",
    "alto = dimensiones[0]\n",
    "\n",
    "#Columnas o ancho\n",
    "ancho = dimensiones[1]\n",
    "\n",
    "#Bandas\n",
    "bandas = dimensiones[2]\n"
   ]
  },
  {
   "cell_type": "markdown",
   "metadata": {},
   "source": [
    "* **Realice una versión de la misma rotada 90º, en sentido horario. Dicha rotación se llevará a cabo creando una imagen nueva y copiando los pixeles desde la imagen original en las posicones adecuadas**\n"
   ]
  },
  {
   "cell_type": "markdown",
   "metadata": {},
   "source": [
    "*Código:*"
   ]
  },
  {
   "cell_type": "code",
   "execution_count": 3,
   "metadata": {},
   "outputs": [],
   "source": [
    "#Creando imagen Rotada, para ello intercambiaremos el orden de alto y ancho en la llamada (1er parÃ¡metro es alto y 2do ancho)\n",
    "imgTransformada = np.zeros((ancho, alto, bandas), np.uint8)\n",
    "\n",
    "#Iteramos por la imagen y almacenamos el valor BGR de cada pixel y lo ponemos en la posicion adecuada\n",
    "\n",
    "#RELLENAR"
   ]
  },
  {
   "cell_type": "markdown",
   "metadata": {},
   "source": [
    "*Explicación de las operaciones realizadas:*"
   ]
  },
  {
   "cell_type": "markdown",
   "metadata": {},
   "source": [
    "Explicar los pasos seguidos aquí"
   ]
  },
  {
   "cell_type": "markdown",
   "metadata": {},
   "source": [
    "**Por ultimo, mostraremos la imagen en pantalla y grabaremos el resultado en un fichero llamado nombreB**"
   ]
  },
  {
   "cell_type": "code",
   "execution_count": 4,
   "metadata": {},
   "outputs": [],
   "source": [
    "#Mostramos la imagen\n",
    "r = cv2.imshow(\"Imagen transformada\",imgTransformada)\n",
    "\n",
    "#La guardamos con el nombre que elegimos y termina la ejecucion del programa\n",
    "cv2.imwrite(nombreB,imgTransformada)\n",
    "cv2.waitKey(0)\n",
    "cv2.destroyAllWindows()"
   ]
  }
 ],
 "metadata": {
  "kernelspec": {
   "display_name": "Python 3",
   "language": "python",
   "name": "python3"
  },
  "language_info": {
   "codemirror_mode": {
    "name": "ipython",
    "version": 3
   },
   "file_extension": ".py",
   "mimetype": "text/x-python",
   "name": "python",
   "nbconvert_exporter": "python",
   "pygments_lexer": "ipython3",
   "version": "3.8.5"
  }
 },
 "nbformat": 4,
 "nbformat_minor": 4
}

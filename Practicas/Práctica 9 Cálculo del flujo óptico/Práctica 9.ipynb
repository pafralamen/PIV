{
 "cells": [
  {
   "cell_type": "markdown",
   "metadata": {},
   "source": [
    "# Cálculo del Flujo Óptico de un par de imágenes\n",
    "\n",
    "OpenCV incorpora funciones de cálculo de Flujo Óptico, tanto disperso (algoritmo de Lucas-Kanade) como denso (algoritmo de Farneback). En esta práctica emplearemos el segundo de los métodos, correspondiente a la siguiente función:\n",
    "\n",
    "```python\n",
    "flujo = cv2.calcOpticalFlowFarneback(img1, img2, flow, pyr_scale, levels, winsize, iterations, poly_n, poly_sigma, flags)\n",
    "```\n",
    "\n",
    "donde:\n",
    "* `flow (None)`: calcula el flujo de la imagen.\n",
    "* `pyr_scale (0.5)`: variación de escala para la pirámide.\n",
    "* `levels (3)`: Niveles de la pirámide.\n",
    "* `winsize (15)`: Tamaño de ventana.\n",
    "* `iterations (3)`: Número de iteraciones.\n",
    "* `poly_n (5)`: Tamaño del vecindario para la expansión polinomial.\n",
    "* `poly_sigma (1.2)`: Desviación estándar para la gaussiana.\n",
    "* `flags (0)`: Permite modificar el comportamiento del algoritmo.\n",
    "\n",
    "El resultado es una matriz de pares de flotantes, con el vector de flujo óptico para cada píxel, es decir es una matriz en donde en la posicíon i,j tenemos una tupla de dos valores. En el primer valor, tenemos el desplazamiento que ha habido  del pixel i,j en el eje x, y el segundo valor tenemos el desplazamiento que ha habido del pixel i,j en el eje y.\n",
    "\n",
    "Nota: mirar diapositivas 23-42 tema 4 teoría.\n",
    "\n",
    "## Cuestionario\n",
    "\n",
    "1. Elaborar un programa en Python que tome dos imágenes y calcule el flujo de Farneback entre ellas. Una vez hecho el cálculo, el programa debe dibujar sobre la primera imagen, en sus lugares correspondientes, un subconjunto de los vectores de flujo uniformemente espaciados (por ejemplo, cada 8 o 16 píxeles), en forma de líneas de tamaño proporcional, con un pequeño círculo en el origen de cada una (diagrama de agujas). El resultado se mostrará por pantalla.\n",
    "\n",
    "\n",
    "![Resolucion flujo](imgResolucion.jpg)\n",
    "\n",
    "_Figura 1: Ejemplo de resolución del cálculo del flujo_"
   ]
  },
  {
   "cell_type": "code",
   "execution_count": 1,
   "metadata": {},
   "outputs": [],
   "source": [
    "import numpy as np\n",
    "import cv2, sys\n",
    "\n",
    "#Inicializamos los argumentos\n",
    "nombreImagen1 = \"img1.jpg\"\n",
    "nombreImagen2 = \"img2.jpg\"\n",
    "nombreImagenSolucion = \"imgFinal.jpg\"\n",
    "\n",
    "#Leemos la imagen y la cargamos a color y en escala de grises\n",
    "imagen1 = cv2.imread(nombreImagen1)\n",
    "imagen2 = cv2.imread(nombreImagen2)\n",
    "\n",
    "#Si la imagen no se ha podido cargar, terminamos la ejecuciÃ³n\n",
    "if (imagen1.any() == None or imagen2.any() == None):\n",
    "    print(\" Error al cargar alguna de las imagenes \")\n",
    "    sys.exit()\n",
    "\n",
    "#Creamos una copia de la primera imagen para mostrar al final y su titulo\n",
    "imagen3 = cv2.imread(nombreImagen1)\n",
    "\n",
    "#Procesamiento en escala de grises\n",
    "gray1 = cv2.cvtColor(imagen1, cv2.COLOR_BGR2GRAY)\n",
    "gray2 = cv2.cvtColor(imagen2, cv2.COLOR_BGR2GRAY)\n",
    "\n",
    "#Obtenemos la matriz con el flujo optico\n",
    "\n",
    "\n",
    "#Obtenemos la dimensión de la imagen\n",
    "\n",
    "\n",
    "#Recorremos la imagen y dibujamos solo algunos pixeles del flujo\n",
    "\n",
    "\n",
    "#Mostramos las imÃ¡genes y guardamos la original\n",
    "a = cv2.imshow(nombreImagenSolucion, imagen3)\n",
    "cv2.imwrite(nombreImagenSolucion, imagen3)\n",
    "\n",
    "\n",
    "#Esperamos a una tecla y cerramos todas las ventanas\n",
    "cv2.waitKey(0)\n",
    "cv2.destroyAllWindows()"
   ]
  },
  {
   "cell_type": "markdown",
   "metadata": {},
   "source": [
    "Explicación:"
   ]
  },
  {
   "cell_type": "markdown",
   "metadata": {},
   "source": [
    "PONER EXPLICACIÓN DEL CODIGO AQUÍ"
   ]
  }
 ],
 "metadata": {
  "kernelspec": {
   "display_name": "Python 3",
   "language": "python",
   "name": "python3"
  },
  "language_info": {
   "codemirror_mode": {
    "name": "ipython",
    "version": 3
   },
   "file_extension": ".py",
   "mimetype": "text/x-python",
   "name": "python",
   "nbconvert_exporter": "python",
   "pygments_lexer": "ipython3",
   "version": "3.8.5"
  }
 },
 "nbformat": 4,
 "nbformat_minor": 4
}

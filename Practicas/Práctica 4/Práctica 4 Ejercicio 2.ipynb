{
 "cells": [
  {
   "cell_type": "markdown",
   "metadata": {},
   "source": [
    "**2. Crear un programa en OpenCV que permita llevar a cabo operaciones de convolución de una imagen en tonos de gris, empleando una matriz cuadrada de números en coma flotante, de tamaño variable. Dicha matriz tendrá un tamaño arbitrario y se especificará como una lista de listas de la siguiente forma:**\n",
    "\n",
    "```python\n",
    "convolucion = [[-1.0,0.0,1.0],[-1.0,0.0,1.0],[-1.0,0.0,1.0]]\n",
    "```\n",
    "\n",
    "**El propio programa será encargado de normalizar el resultado para que se encuentre en el rango 0-255, y de visualizar tanto la imagen original como la imagen convolucionada. Indique en los comentarios del programa la estrategia empleada en el proceso de normalización.**\n",
    "\n",
    "![Convolucion](convolucion.png)\n",
    "_Figura 1. Operación de convolucion_\n",
    "\n",
    "**Nota: Si para calcular la convolución, se accede a un pixel que esta fuera de la imagen, se considerará que ese pixel tiene valor 0**\n",
    "\n",
    "![Solucion](p4solucion.png)\n",
    "_Figura 2. Resultado de aplicar la matriz de convolución_"
   ]
  },
  {
   "cell_type": "code",
   "execution_count": null,
   "metadata": {},
   "outputs": [],
   "source": [
    "import numpy as np\n",
    "import cv2, sys\n",
    "\n",
    "nombreImagen =\"p4.png\"\n",
    "nombreImagenResultante = \"p4convolucion.png\"\n",
    "\n",
    "#cargamos la imagen\n",
    "imagen = cv2.imread(nombreImagen, cv2.IMREAD_GRAYSCALE)\n",
    "\n",
    "if (imagen is None):\n",
    "    print(\"Error al cargar la imagen\")\n",
    "    sys.exit()\n",
    "    \n",
    "#calculamos las dimensiones\n",
    "dimensiones=imagen.shape\n",
    "alto = dimensiones[0]\n",
    "ancho = dimensiones[1]\n",
    "\n",
    "tamConvolucion = 3\n",
    "convolucion = [[-1.0,0.0,1.0],[-1.0,0.0,1.0],[-1.0,0.0,1.0]]\n",
    "\n",
    "#rotamos 180º la matriz de convolución\n",
    "filtro = np.flip(np.flip(convolucion, 1), 0)\n",
    "\n",
    "# Poner aquí el código de la convolución. Se supone que la imagen resultante se guardará en la variable imagenResultante\n",
    "# en filtro tengo la nucleo que voy a utilizar\n",
    "\n",
    "\n",
    "\n",
    "#sSe muestran las imagenes\n",
    "cv2.imshow(\"Imagen Original\", imagen)\n",
    "cv2.imshow(\"Imagen Convolucionada\", imagenResultante)\n",
    "\n",
    "#Se guarda la nueva imagen en un archivo\n",
    "cv2.imwrite(nombreImagenResultante , imagenResultante)\n",
    "\n",
    "#Se finaliza la ejecucion\n",
    "cv2.waitKey(0)\n",
    "cv2.destroyAllWindows()"
   ]
  },
  {
   "cell_type": "markdown",
   "metadata": {},
   "source": [
    "_Explicación del código:_"
   ]
  },
  {
   "cell_type": "markdown",
   "metadata": {},
   "source": [
    "Multiplicar fuera, duplicar?¿?¿ pillar del otro lado\n",
    "\n",
    "Si la suma es 0 , dividir entre 1"
   ]
  }
 ],
 "metadata": {
  "kernelspec": {
   "display_name": "Python 3 (ipykernel)",
   "language": "python",
   "name": "python3"
  },
  "language_info": {
   "codemirror_mode": {
    "name": "ipython",
    "version": 3
   },
   "file_extension": ".py",
   "mimetype": "text/x-python",
   "name": "python",
   "nbconvert_exporter": "python",
   "pygments_lexer": "ipython3",
   "version": "3.9.7"
  }
 },
 "nbformat": 4,
 "nbformat_minor": 4
}

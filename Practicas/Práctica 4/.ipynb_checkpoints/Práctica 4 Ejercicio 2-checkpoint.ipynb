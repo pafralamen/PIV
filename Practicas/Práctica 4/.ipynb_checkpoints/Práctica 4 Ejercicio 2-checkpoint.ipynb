{
 "cells": [
  {
   "cell_type": "markdown",
   "metadata": {},
   "source": [
    "**2. Crear un programa en OpenCV que permita llevar a cabo operaciones de convolución de una imagen en tonos de gris, empleando una matriz cuadrada de números en coma flotante, de tamaño variable. Dicha matriz tendrá un tamaño arbitrario y se especificará como una lista de listas de la siguiente forma:**\n",
    "\n",
    "```python\n",
    "convolucion = [[-1.0,0.0,1.0],[-1.0,0.0,1.0],[-1.0,0.0,1.0]]\n",
    "```\n",
    "\n",
    "**El propio programa será encargado de normalizar el resultado para que se encuentre en el rango 0-255, y de visualizar tanto la imagen original como la imagen convolucionada. Indique en los comentarios del programa la estrategia empleada en el proceso de normalización.**\n",
    "\n",
    "![Convolucion](convolucion.png)\n",
    "_Figura 1. Operación de convolucion_\n",
    "\n",
    "**Nota: Si para calcular la convolución, se accede a un pixel que esta fuera de la imagen, se considerará que ese pixel tiene valor 0**\n",
    "\n",
    "![Solucion](p4solucion.png)\n",
    "_Figura 2. Resultado de aplicar la matriz de convolución_"
   ]
  },
  {
   "cell_type": "code",
   "execution_count": 5,
   "metadata": {},
   "outputs": [],
   "source": [
    "import numpy as np\n",
    "import cv2, sys\n",
    "\n",
    "nombreImagen =\"p4.png\"\n",
    "nombreImagenResultante = \"p4convolucion.png\"\n",
    "\n",
    "#cargamos la imagen\n",
    "imagen = cv2.imread(nombreImagen, cv2.IMREAD_GRAYSCALE)\n",
    "\n",
    "if (imagen is None):\n",
    "    print(\"Error al cargar la imagen\")\n",
    "    sys.exit()\n",
    "    \n",
    "#calculamos las dimensiones\n",
    "dimensiones=imagen.shape\n",
    "alto = dimensiones[0]\n",
    "ancho = dimensiones[1]\n",
    "\n",
    "tamConvolucion = 3\n",
    "convolucion = [[-1.0,0.0,1.0],[-1.0,0.0,1.0],[-1.0,0.0,1.0]]\n",
    "\n",
    "#rotamos 180º la matriz de convolución\n",
    "filtro = np.flip(np.flip(convolucion, 1), 0)\n",
    "\n",
    "\n",
    "\n",
    "# Poner aquí el código de la convolución. Se supone que la imagen resultante se guardará en la variable imagenResultante\n",
    "# en filtro tengo la nucleo que voy a utilizar\n",
    "imagenResultante = np.zeros((alto, ancho))\n",
    "\n",
    "# Calculo la suma de la matriz de convolución\n",
    "sumaConvolucion = filtro.sum()\n",
    "if sumaConvolucion == 0:\n",
    "    sumaConvolucion = 1\n",
    "\n",
    "# Iteramos sobre la imagen \n",
    "for i in range(alto):\n",
    "    for j in range(ancho):\n",
    "        suma = 0      \n",
    "        # Trabajamos en la submatriz de cada pixel\n",
    "        for f in range(-1,2):\n",
    "            for c in range(-1,2):\n",
    "                fila = f + i\n",
    "                columna = c + j\n",
    "                # Comprobamos que no salga de los limites\n",
    "                if (fila != -1 and columna != -1 and fila != alto and columna != ancho):                  \n",
    "                    # Realizamos la suma y multiplicacion\n",
    "                    suma += imagen[fila, columna] * filtro[f + 1][c + 1]                 \n",
    "        # Guardamos el resultado en la imagen resultante        \n",
    "        imagenResultante[i, j] = suma / sumaConvolucion\n",
    "        # Modificamos si el valor es mayor o menor a 255\n",
    "        if (imagenResultante[i][j] < 0):\n",
    "            imagenResultante[i][j] = 0.0\n",
    "        if (imagenResultante[i][j] > 255):\n",
    "            imagenResultante[i][j] = 255.0\n",
    "\n",
    "# Normalizamos    \n",
    "maxValor = np.max(imagenResultante)\n",
    "minValor = np.min(imagenResultante)\n",
    "\n",
    "constante = 255 / (maxValor - minValor)\n",
    "\n",
    "for i in range(alto):\n",
    "    for j in range(ancho):\n",
    "        imagenResultante[i][j] = (imagenResultante[i][j] - minValor) * constante\n",
    "                        \n",
    "#sSe muestran las imagenes\n",
    "cv2.imshow(\"Imagen Original\", imagen)\n",
    "\n",
    "\n",
    "#Se guarda la nueva imagen en un archivo\n",
    "cv2.imwrite(nombreImagenResultante , imagenResultante)\n",
    "cv2.imshow(\"Imagen Convolucionada\", imagenResultante)\n",
    "\n",
    "#Se finaliza la ejecucion\n",
    "cv2.waitKey(0)\n",
    "cv2.destroyAllWindows()"
   ]
  },
  {
   "cell_type": "markdown",
   "metadata": {},
   "source": [
    "_Explicación del código:_"
   ]
  },
  {
   "cell_type": "markdown",
   "metadata": {},
   "source": [
    "Explicado en los comentarios. Hay un problema al mostrar la imagen, pero al guardarla es la correcta"
   ]
  },
  {
   "cell_type": "code",
   "execution_count": null,
   "metadata": {},
   "outputs": [],
   "source": []
  }
 ],
 "metadata": {
  "kernelspec": {
   "display_name": "Python 3 (ipykernel)",
   "language": "python",
   "name": "python3"
  },
  "language_info": {
   "codemirror_mode": {
    "name": "ipython",
    "version": 3
   },
   "file_extension": ".py",
   "mimetype": "text/x-python",
   "name": "python",
   "nbconvert_exporter": "python",
   "pygments_lexer": "ipython3",
   "version": "3.9.7"
  }
 },
 "nbformat": 4,
 "nbformat_minor": 4
}

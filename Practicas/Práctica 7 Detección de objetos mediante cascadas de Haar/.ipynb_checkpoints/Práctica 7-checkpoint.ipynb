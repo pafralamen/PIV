{
 "cells": [
  {
   "cell_type": "markdown",
   "metadata": {},
   "source": [
    "# Detección de objetos en imagenes mediante cascadas de Haar\n",
    "\n",
    "OpenCV incorpora un detector de patrones en imágenes, basado en cascadas de Haar, que puede ser empleado para detectar diversos objetos (caras, ojos, cuerpos enteros, etc.). Para ello necesita el conjunto de clasificadores _débiles_ correspondiente a cada uno de los tipos de objetos que se desea detectar.  Incorpora tanto funciones para entrenar al clasificador, como clasificadores ya entrenados.\n",
    "\n",
    "Para construir un detector basta con crear un objeto `CascadeClassifier` de la siguiente forma:\n",
    "\n",
    "```python\n",
    "detector = cv2.CascadeClassifier(“haarcascade_xxx.xml”)\n",
    "```\n",
    "\n",
    "Posteriormente basta con llamar al método `detectMultiScale` de la siguiente forma:\n",
    "\n",
    "```python\n",
    "obj = detector.detectMultiScale(imgGris, 1.3, 5)\n",
    "```\n",
    "\n",
    "Donde `imgGris` representa una imagen en tonos de gris, 1.3 es el factor de escala entre diferentes pasadas del detector (tamaños de objeto que va a buscar), y 5 es el número mínimo de vecinos que un candidato debe retener (valores más altos detectan menos caras, pero de mejor calidad).\n",
    "\n",
    "La función devuelve una lista en la que cada elemento es un cuarteto [x, y, w, h], que representa un rectángulo cuya esquina superior izquierda está en las coordenadas (x, y), tiene un ancho de w píxeles, y un alto de h píxeles.\n",
    "\n",
    "Nota: para más información ir al tema 6 diapositívas 60-66\n",
    "\n",
    "## Cuestionario\n",
    "\n",
    "1. Elaborar un programa en Python que tome una imagen, detecte las posibles caras que hay en ella, dibuje un rectángulo rodeando cada una de ellas, y visualice por pantalla el resultado.\n",
    "\n",
    "![detección caras](resolucionCaras.jpg)\n",
    "_Figura 1: Ejemplo de resolución de detección de caras_\n",
    "\n",
    "En pseudocódigo nuestro programa funcionaría de la siguiente forma:\n",
    "\n",
    "```python\n",
    "#Se carga la imagen original a color y en escala de grises\n",
    "imgGris = cargarImagenEnEscalaDeGrises(nombreImagen)\n",
    "imgColor = cargarImagenEnColor(nombreImagen)\n",
    "imgColorOrig = cargarImagenEnColor(nombreImagen)\n",
    "\n",
    "#Se crea el(los) detector(es) con los fichero correspondoentes\n",
    "detectorCaras = cv2.CascadeClassifier('haarcascade_frontalface_default.xml')\n",
    "caras = detectorCaras.detectMultiScale(imgGris, 1.3, 5)\n",
    "\n",
    "#Se dibujan los rectangulos sobre las caras detectadas\n",
    "para (x, y, w, h) en caras\n",
    "\tcv2.rectangle(imgColor, [x,y,w,h])\n",
    "\n",
    "#Se muestran las imagenes\n",
    "muestraImagen(imgColorOrig)\n",
    "muestraImagen(imgColor)\n",
    "```"
   ]
  },
  {
   "cell_type": "code",
   "execution_count": 21,
   "metadata": {},
   "outputs": [],
   "source": [
    "import cv2, numpy, sys\n",
    "\n",
    "nombreImagen = \"familia.jpg\"\n",
    "nombreImagenSolucion = \"familiaSolucion.jpg\"\n",
    "\n",
    "#Se carga la imagen original a color y en escala de grises\n",
    "imgColor = cv2.imread(nombreImagen)\n",
    "imgGris = cv2.imread(nombreImagen,cv2.IMREAD_GRAYSCALE)\n",
    "imgColorOrig = cv2.imread(nombreImagen)\n",
    "\n",
    "#Se crea el(los) detector(es) con los fichero correspondoentes\n",
    "detectorCaras = cv2.CascadeClassifier('haarcascade_frontalface_default.xml')\n",
    "\n",
    "#Se aplica la deteccion de elementos (Parametros que mas se ajustan a las imagenes del ejercicio)\n",
    "caras = detectorCaras.detectMultiScale(imgGris, 1.3, 7)\n",
    "    \n",
    "#Se dibujan los rectangulos sobre las caras detectadas\n",
    "for i in range(len(caras[0])):\n",
    "    punto1 = (caras[i][0],caras[i][1])\n",
    "    punto2 = (caras[i][0] + caras[i][2],caras[i][1] + caras[i][3])\n",
    "    cv2.rectangle(imgColor,punto1,punto2,(0, 0, 255),2)\n",
    "\n",
    "#Se muestran las imagenes\n",
    "cv2.imshow('Cuestionario 2 - Imagen', imgColorOrig)\n",
    "cv2.imshow('Cuestionario 2 - Deteccion de caras', imgColor)\n",
    "\n",
    "#Se guarda la nueva imagen en un archivo.\n",
    "cv2.imwrite(nombreImagenSolucion, imgColor)\n",
    "\n",
    "#Se finaliza la ejecucion.\n",
    "cv2.waitKey(0)\n",
    "cv2.destroyAllWindows()"
   ]
  },
  {
   "cell_type": "markdown",
   "metadata": {},
   "source": [
    "Explicación del código:"
   ]
  },
  {
   "cell_type": "markdown",
   "metadata": {},
   "source": [
    "Para el primer punto del rectangulo:\n",
    "\n",
    "los dos primeros valores que devuelve detectMultiScale x,y\n",
    "\n",
    "para el segundo punto: \n",
    "\n",
    "los dos primeros valores más la altura/anchura "
   ]
  },
  {
   "cell_type": "markdown",
   "metadata": {},
   "source": [
    "2. Buscar y dibujar en cada una de las caras ojos, nariz y boca.\n",
    "\n",
    "![detección caras](resolucionTodo.jpg)\n",
    "_Figura 2: Ejemplo de resolución de detección de caras, nariz y boca_\n"
   ]
  },
  {
   "cell_type": "code",
   "execution_count": 128,
   "metadata": {},
   "outputs": [],
   "source": [
    "import cv2, numpy, sys\n",
    "\n",
    "nombreImagen = \"familia.jpg\"\n",
    "nombreImagenSolucion = \"familiaSolucion2.jpg\"\n",
    "\n",
    "#Se carga la imagen original a color y en escala de grises\n",
    "imgColor = cv2.imread(nombreImagen)\n",
    "imgGris = cv2.imread(nombreImagen,cv2.IMREAD_GRAYSCALE)\n",
    "imgColorOrig = cv2.imread(nombreImagen)\n",
    "\n",
    "#Se crea el(los) detector(es) con los fichero correspondoentes\n",
    "detectorCaras = cv2.CascadeClassifier('haarcascade_frontalface_default.xml')\n",
    "detectorNariz = cv2.CascadeClassifier('haarcascade_mcs_nose.xml')\n",
    "detectorBoca = cv2.CascadeClassifier('haarcascade_mcs_mouth.xml')\n",
    "detectorOjos = cv2.CascadeClassifier('haarcascade_eye.xml')\n",
    "\n",
    "#Se aplica la deteccion de elementos (Parametros que mas se ajustan a las imagenes del ejercicio)\n",
    "caras = detectorCaras.detectMultiScale(imgGris, 1.3, 7)\n",
    "narices = detectorNariz.detectMultiScale(imgGris, 1.2, 6)\n",
    "bocas = detectorBoca.detectMultiScale(imgGris, 1.7, 8)\n",
    "ojos = detectorOjos.detectMultiScale(imgGris, 1.15 ,2)\n",
    "\n",
    "#Se dibujan los rectangulos sobre los elementos detectados\n",
    "for i in range(len(caras[0])):\n",
    "    punto1 = (caras[i][0],caras[i][1])\n",
    "    punto2 = (caras[i][0] + caras[i][2],caras[i][1] + caras[i][3])\n",
    "    cv2.rectangle(imgColor,punto1,punto2,(0, 0, 255),2)    \n",
    "    \n",
    "for i in range(len(narices[0])):\n",
    "    punto1 = (narices[i][0],narices[i][1])\n",
    "    punto2 = (narices[i][0] + narices[i][2],narices[i][1] + narices[i][3])\n",
    "    cv2.rectangle(imgColor,punto1,punto2,(255, 0, 0),2)\n",
    "    \n",
    "for i in range(len(narices[0])):\n",
    "    punto1 = (bocas[i][0],bocas[i][1])\n",
    "    punto2 = (bocas[i][0] + bocas[i][2],bocas[i][1] + bocas[i][3])\n",
    "    cv2.rectangle(imgColor,punto1,punto2,(0, 255, 255),2)\n",
    "\n",
    "for j in range(len(ojos[0])):\n",
    "    punto1 = (ojos[j][0],ojos[j][1])\n",
    "    punto2 = (ojos[j][0] + ojos[j][2],ojos[j][1] + ojos[j][3])\n",
    "    cv2.rectangle(imgColor,punto1,punto2,(0, 255, 0),2)\n",
    "    \n",
    "#Se muestran las imagenes\n",
    "cv2.imshow('Cuestionario 2 - Imagen', imgColorOrig)\n",
    "cv2.imshow('Cuestionario 2 - Deteccion de caras', imgColor)\n",
    "\n",
    "#Se guarda la nueva imagen en un archivo.\n",
    "cv2.imwrite(nombreImagenSolucion, imgColor)\n",
    "\n",
    "#Se finaliza la ejecucion.\n",
    "cv2.waitKey(0)\n",
    "cv2.destroyAllWindows()"
   ]
  },
  {
   "cell_type": "markdown",
   "metadata": {},
   "source": [
    "Explicación del código:"
   ]
  },
  {
   "cell_type": "markdown",
   "metadata": {},
   "source": [
    "Replicar el método para cada uno de los elementos y modificando los parámetros "
   ]
  },
  {
   "cell_type": "code",
   "execution_count": null,
   "metadata": {},
   "outputs": [],
   "source": []
  }
 ],
 "metadata": {
  "kernelspec": {
   "display_name": "Python 3 (ipykernel)",
   "language": "python",
   "name": "python3"
  },
  "language_info": {
   "codemirror_mode": {
    "name": "ipython",
    "version": 3
   },
   "file_extension": ".py",
   "mimetype": "text/x-python",
   "name": "python",
   "nbconvert_exporter": "python",
   "pygments_lexer": "ipython3",
   "version": "3.9.7"
  }
 },
 "nbformat": 4,
 "nbformat_minor": 4
}
